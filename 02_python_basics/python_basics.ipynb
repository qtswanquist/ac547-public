{
 "cells": [
  {
   "metadata": {},
   "cell_type": "markdown",
   "source": [
    "# Python Basics\n",
    "\n",
    "## Python, DataSpell, and Jupyter notebooks\n",
    "Now that you have installed and set up Python and DataSpell, we are ready to begin familiarizing ourselves with these tools.\n",
    "\n",
    "### Why Python?\n",
    "Python is the [most popular general purpose programming language](https://www.tiobe.com/tiobe-index/) (and will likely hold this status for a long time). It is also very popular for data science and AI applications. It is (relatively) easy to learn and has a large community of users. It is also free and open source!\n",
    "\n",
    "### DataSpell\n",
    "DataSpell is an \"Integrated Development Environment\" (IDE) that is designed for data science. It provides a user-friendly interface for writing, running, and debugging code, as well as tools for data visualization and analysis. You can learn more about the user interface in DataSpell [here](https://www.jetbrains.com/help/dataspell/guided-tour-around-the-user-interface.html).\n",
    "\n",
    "### Jupyter notebooks\n",
    "DataSpell supports Jupyter (Julia, Python, and R) notebooks, which are interactive documents that allow you to write and execute code in a \"web-based\" environment. Jupyter notebooks are great for data analysis and visualization because they allow you to combine code, text, and visualizations in a single document. This document is a Jupyter notebook!\n",
    "\n",
    "We typically keep our code in the form of scripts. A script is a text file where we store and edit our code. We can think of a script as a workflow or set of instructions we want the computer to execute. In this course, we will generally use notebooks, which are similar, but allow us to run code in \"chunks\" and see the output immediately. For example, let's run a chunk of code and see the output. To run a chunk of code, place your cursor in the cell and press **Shift + Enter**. Alternatively, you can click the green \"play\" (▶️) button in the top left corner of the cell."
   ],
   "id": "606f4eaa30d436ad"
  },
  {
   "metadata": {
    "ExecuteTime": {
     "end_time": "2025-09-29T04:51:55.781625Z",
     "start_time": "2025-09-29T04:51:55.779259Z"
    }
   },
   "cell_type": "code",
   "source": "print(\"Roll Tide!\") # This is a simple print statement that outputs \"Roll Tide!\" to the console",
   "id": "7f4e9b58f73f0ed3",
   "outputs": [
    {
     "name": "stdout",
     "output_type": "stream",
     "text": [
      "Roll Tide!\n"
     ]
    }
   ],
   "execution_count": 1
  },
  {
   "metadata": {},
   "cell_type": "markdown",
   "source": "In the blank cell below, try writing your own print statement and running the code.",
   "id": "f7cafcd8909df963"
  },
  {
   "metadata": {
    "ExecuteTime": {
     "end_time": "2025-09-29T04:51:56.392606Z",
     "start_time": "2025-09-29T04:51:56.391266Z"
    }
   },
   "cell_type": "code",
   "source": "",
   "id": "6e82dcf34987a2d5",
   "outputs": [],
   "execution_count": null
  },
  {
   "metadata": {},
   "cell_type": "markdown",
   "source": [
    "## General housekeeping items\n",
    "There are several functions that are useful whenever we begin a new project. I refer to these as “housekeeping” items.\n",
    "\n",
    "### Importing packages\n",
    "Python is a powerful programming language. A key feature is the extensive library of packages that make Python easier and more intuitive to use. Packages are collections of code that provide additional features and functions.\n",
    "\n",
    "Let's begin by opening packages. Usually we do this all in one chunk, but for the sake of learning, we will break it down into smaller pieces.\n",
    "\n",
    "#### Import `numpy`\n",
    "\n",
    "The `numpy` package allows us to perform mathematical operations on arrays and matrices. We will use it to perform various operations. Note that when we import packages we frequently assign them an abbreviation to make referencing easier (e.g., import numpy **as np**). We can choose not to do this, however if we don't, the package name must be used in full (e.g., numpy.array())."
   ],
   "id": "5833db16f0580b44"
  },
  {
   "metadata": {
    "ExecuteTime": {
     "end_time": "2025-09-29T04:51:56.875556Z",
     "start_time": "2025-09-29T04:51:56.872464Z"
    }
   },
   "cell_type": "code",
   "source": "import numpy as np",
   "id": "23e5c74c86240820",
   "outputs": [],
   "execution_count": 2
  },
  {
   "metadata": {},
   "cell_type": "markdown",
   "source": [
    "#### Import `pandas`\n",
    "\n",
    "The `pandas` module allows us to work with data in a tabular format (think data in columns and rows... like an excel spreadsheet!). We will use it to import, manipulate, and analyze data."
   ],
   "id": "51e452003cd16447"
  },
  {
   "metadata": {
    "ExecuteTime": {
     "end_time": "2025-09-29T04:51:57.361575Z",
     "start_time": "2025-09-29T04:51:57.359450Z"
    }
   },
   "cell_type": "code",
   "source": "import pandas as pd",
   "id": "d4b5e504d6c97df3",
   "outputs": [],
   "execution_count": 3
  },
  {
   "metadata": {},
   "cell_type": "markdown",
   "source": [
    "#### Import `matplotlib`\n",
    "\n",
    "The `matplotlib` package allows us to create plots and visualizations. We will use it to create various types of plots."
   ],
   "id": "2ac47025866009b5"
  },
  {
   "metadata": {
    "ExecuteTime": {
     "end_time": "2025-09-29T04:51:57.422358Z",
     "start_time": "2025-09-29T04:51:57.420302Z"
    }
   },
   "cell_type": "code",
   "source": "import matplotlib.pyplot as plt",
   "id": "157b0d6fede201ec",
   "outputs": [],
   "execution_count": 4
  },
  {
   "metadata": {},
   "cell_type": "markdown",
   "source": [
    "#### Import `seaborn`\n",
    "\n",
    "The `seaborn` module is built on top of `matplotlib` and allows us to create more visually appealing plots."
   ],
   "id": "9efa9d3f823c99c9"
  },
  {
   "metadata": {
    "ExecuteTime": {
     "end_time": "2025-09-29T04:51:57.459088Z",
     "start_time": "2025-09-29T04:51:57.456995Z"
    }
   },
   "cell_type": "code",
   "source": "import seaborn as sns",
   "id": "8b1dcdd61915dfbf",
   "outputs": [],
   "execution_count": 5
  },
  {
   "metadata": {},
   "cell_type": "markdown",
   "source": [
    "### Importing files\n",
    "#### Import the coozie data\n",
    "Python (`pandas`) can handle a wide variety of data types. Let’s start simple and import a “comma-separated values” (`csv`) file. In this repo, you will see a [coozie_data](https://sites.ua.edu/qtswanquist/ac547-introduction/) file. We will import this file using the `pd.read_csv` function. Note that we use `pd.` as a prefix because we imported pandas **as pd** above. Also, we will store the data in a variable (or an object) called `coozie_data` for later reference."
   ],
   "id": "f2f032b0fc162f"
  },
  {
   "metadata": {
    "ExecuteTime": {
     "end_time": "2025-09-29T04:51:57.470231Z",
     "start_time": "2025-09-29T04:51:57.465633Z"
    }
   },
   "cell_type": "code",
   "source": "coozie_data = pd.read_csv('coozie_data.csv') # Import the coozie data from a CSV file",
   "id": "e8159c40f4c35492",
   "outputs": [],
   "execution_count": 6
  },
  {
   "metadata": {},
   "cell_type": "markdown",
   "source": [
    "#### Import the diamonds data\n",
    "The `seaborn` package includes several [example datasets](https://github.com/mwaskom/seaborn-data?tab=readme-ov-file). The [diamonds dataset](https://ggplot2.tidyverse.org/reference/diamonds.html) is one of these. As in the earlier exercise, if this does not run on your machine, the dataset is included in this repo for convenience. Let's import the file and assign to a variable called `diamonds`. Next, we will take a take a quick look at the first few rows to ensure the data loaded correctly."
   ],
   "id": "eeb9f8f01922e7bf"
  },
  {
   "metadata": {
    "ExecuteTime": {
     "end_time": "2025-09-29T04:51:57.559899Z",
     "start_time": "2025-09-29T04:51:57.480096Z"
    }
   },
   "cell_type": "code",
   "source": [
    "diamonds = sns.load_dataset('diamonds') # Load diamonds dataset directly from seaborn - This is the original source of the data\n",
    "# diamonds = pd.read_pickle('diamonds.pkl') # Import the diamonds dataset from a pickle file - preferred method from local file\n",
    "\n",
    "diamonds.sample(10) # Display a random sample of 10 rows from the dataset"
   ],
   "id": "4a1303b333ea42fb",
   "outputs": [
    {
     "data": {
      "text/plain": [
       "       carat        cut color clarity  depth  table  price     x     y     z\n",
       "39114   0.41    Premium     G     VS2   59.8   61.0   1061  4.82  4.78  2.87\n",
       "23576   1.62      Ideal     I    VVS2   62.7   54.0  11587  7.47  7.52  4.70\n",
       "33127   0.31      Ideal     E    VVS2   61.7   56.0    816  4.33  4.36  2.68\n",
       "49645   0.30    Premium     H     SI1   61.3   58.0    540  4.33  4.29  2.64\n",
       "41526   0.42      Ideal     G    VVS1   61.6   55.0   1235  4.87  4.81  2.98\n",
       "4853    0.71      Ideal     F     VS1   60.9   56.0   3710  5.76  5.79  3.52\n",
       "13659   1.24  Very Good     H     SI2   61.2   57.0   5592  6.87  7.02  4.25\n",
       "37546   0.39      Ideal     D     VS1   61.8   54.0    988  4.69  4.73  2.91\n",
       "32986   0.38    Premium     E     SI2   61.6   57.0    812  4.65  4.61  2.85\n",
       "19218   1.02       Fair     F    VVS1   64.6   59.0   7960  6.31  6.26  4.06"
      ],
      "text/html": [
       "<div>\n",
       "<style scoped>\n",
       "    .dataframe tbody tr th:only-of-type {\n",
       "        vertical-align: middle;\n",
       "    }\n",
       "\n",
       "    .dataframe tbody tr th {\n",
       "        vertical-align: top;\n",
       "    }\n",
       "\n",
       "    .dataframe thead th {\n",
       "        text-align: right;\n",
       "    }\n",
       "</style>\n",
       "<table border=\"1\" class=\"dataframe\">\n",
       "  <thead>\n",
       "    <tr style=\"text-align: right;\">\n",
       "      <th></th>\n",
       "      <th>carat</th>\n",
       "      <th>cut</th>\n",
       "      <th>color</th>\n",
       "      <th>clarity</th>\n",
       "      <th>depth</th>\n",
       "      <th>table</th>\n",
       "      <th>price</th>\n",
       "      <th>x</th>\n",
       "      <th>y</th>\n",
       "      <th>z</th>\n",
       "    </tr>\n",
       "  </thead>\n",
       "  <tbody>\n",
       "    <tr>\n",
       "      <th>39114</th>\n",
       "      <td>0.41</td>\n",
       "      <td>Premium</td>\n",
       "      <td>G</td>\n",
       "      <td>VS2</td>\n",
       "      <td>59.8</td>\n",
       "      <td>61.0</td>\n",
       "      <td>1061</td>\n",
       "      <td>4.82</td>\n",
       "      <td>4.78</td>\n",
       "      <td>2.87</td>\n",
       "    </tr>\n",
       "    <tr>\n",
       "      <th>23576</th>\n",
       "      <td>1.62</td>\n",
       "      <td>Ideal</td>\n",
       "      <td>I</td>\n",
       "      <td>VVS2</td>\n",
       "      <td>62.7</td>\n",
       "      <td>54.0</td>\n",
       "      <td>11587</td>\n",
       "      <td>7.47</td>\n",
       "      <td>7.52</td>\n",
       "      <td>4.70</td>\n",
       "    </tr>\n",
       "    <tr>\n",
       "      <th>33127</th>\n",
       "      <td>0.31</td>\n",
       "      <td>Ideal</td>\n",
       "      <td>E</td>\n",
       "      <td>VVS2</td>\n",
       "      <td>61.7</td>\n",
       "      <td>56.0</td>\n",
       "      <td>816</td>\n",
       "      <td>4.33</td>\n",
       "      <td>4.36</td>\n",
       "      <td>2.68</td>\n",
       "    </tr>\n",
       "    <tr>\n",
       "      <th>49645</th>\n",
       "      <td>0.30</td>\n",
       "      <td>Premium</td>\n",
       "      <td>H</td>\n",
       "      <td>SI1</td>\n",
       "      <td>61.3</td>\n",
       "      <td>58.0</td>\n",
       "      <td>540</td>\n",
       "      <td>4.33</td>\n",
       "      <td>4.29</td>\n",
       "      <td>2.64</td>\n",
       "    </tr>\n",
       "    <tr>\n",
       "      <th>41526</th>\n",
       "      <td>0.42</td>\n",
       "      <td>Ideal</td>\n",
       "      <td>G</td>\n",
       "      <td>VVS1</td>\n",
       "      <td>61.6</td>\n",
       "      <td>55.0</td>\n",
       "      <td>1235</td>\n",
       "      <td>4.87</td>\n",
       "      <td>4.81</td>\n",
       "      <td>2.98</td>\n",
       "    </tr>\n",
       "    <tr>\n",
       "      <th>4853</th>\n",
       "      <td>0.71</td>\n",
       "      <td>Ideal</td>\n",
       "      <td>F</td>\n",
       "      <td>VS1</td>\n",
       "      <td>60.9</td>\n",
       "      <td>56.0</td>\n",
       "      <td>3710</td>\n",
       "      <td>5.76</td>\n",
       "      <td>5.79</td>\n",
       "      <td>3.52</td>\n",
       "    </tr>\n",
       "    <tr>\n",
       "      <th>13659</th>\n",
       "      <td>1.24</td>\n",
       "      <td>Very Good</td>\n",
       "      <td>H</td>\n",
       "      <td>SI2</td>\n",
       "      <td>61.2</td>\n",
       "      <td>57.0</td>\n",
       "      <td>5592</td>\n",
       "      <td>6.87</td>\n",
       "      <td>7.02</td>\n",
       "      <td>4.25</td>\n",
       "    </tr>\n",
       "    <tr>\n",
       "      <th>37546</th>\n",
       "      <td>0.39</td>\n",
       "      <td>Ideal</td>\n",
       "      <td>D</td>\n",
       "      <td>VS1</td>\n",
       "      <td>61.8</td>\n",
       "      <td>54.0</td>\n",
       "      <td>988</td>\n",
       "      <td>4.69</td>\n",
       "      <td>4.73</td>\n",
       "      <td>2.91</td>\n",
       "    </tr>\n",
       "    <tr>\n",
       "      <th>32986</th>\n",
       "      <td>0.38</td>\n",
       "      <td>Premium</td>\n",
       "      <td>E</td>\n",
       "      <td>SI2</td>\n",
       "      <td>61.6</td>\n",
       "      <td>57.0</td>\n",
       "      <td>812</td>\n",
       "      <td>4.65</td>\n",
       "      <td>4.61</td>\n",
       "      <td>2.85</td>\n",
       "    </tr>\n",
       "    <tr>\n",
       "      <th>19218</th>\n",
       "      <td>1.02</td>\n",
       "      <td>Fair</td>\n",
       "      <td>F</td>\n",
       "      <td>VVS1</td>\n",
       "      <td>64.6</td>\n",
       "      <td>59.0</td>\n",
       "      <td>7960</td>\n",
       "      <td>6.31</td>\n",
       "      <td>6.26</td>\n",
       "      <td>4.06</td>\n",
       "    </tr>\n",
       "  </tbody>\n",
       "</table>\n",
       "</div>"
      ]
     },
     "execution_count": 7,
     "metadata": {},
     "output_type": "execute_result"
    }
   ],
   "execution_count": 7
  },
  {
   "metadata": {},
   "cell_type": "markdown",
   "source": [
    "### Practice with mathematical operators\n",
    "Now let’s familiarize with mathematical functions and operators.\n",
    "\n",
    "Addition:"
   ],
   "id": "c6de094f8f68f9d5"
  },
  {
   "metadata": {
    "ExecuteTime": {
     "end_time": "2025-09-29T04:51:57.608659Z",
     "start_time": "2025-09-29T04:51:57.604395Z"
    }
   },
   "cell_type": "code",
   "source": "10 + 2",
   "id": "be29b81e8a0b448b",
   "outputs": [
    {
     "data": {
      "text/plain": [
       "12"
      ]
     },
     "execution_count": 8,
     "metadata": {},
     "output_type": "execute_result"
    }
   ],
   "execution_count": 8
  },
  {
   "metadata": {},
   "cell_type": "markdown",
   "source": "Subtraction:",
   "id": "5d4881570bac4124"
  },
  {
   "metadata": {
    "ExecuteTime": {
     "end_time": "2025-09-29T04:51:58.584751Z",
     "start_time": "2025-09-29T04:51:58.581870Z"
    }
   },
   "cell_type": "code",
   "source": "10 - 2",
   "id": "f013e4545dce0d8e",
   "outputs": [
    {
     "data": {
      "text/plain": [
       "8"
      ]
     },
     "execution_count": 9,
     "metadata": {},
     "output_type": "execute_result"
    }
   ],
   "execution_count": 9
  },
  {
   "metadata": {},
   "cell_type": "markdown",
   "source": "Multiplication",
   "id": "92c8625f49e475d7"
  },
  {
   "metadata": {
    "ExecuteTime": {
     "end_time": "2025-09-29T04:51:59.646565Z",
     "start_time": "2025-09-29T04:51:59.643404Z"
    }
   },
   "cell_type": "code",
   "source": "10 * 2",
   "id": "501e9cc7a3d67f50",
   "outputs": [
    {
     "data": {
      "text/plain": [
       "20"
      ]
     },
     "execution_count": 10,
     "metadata": {},
     "output_type": "execute_result"
    }
   ],
   "execution_count": 10
  },
  {
   "metadata": {},
   "cell_type": "markdown",
   "source": "Division:",
   "id": "23d6308620934184"
  },
  {
   "metadata": {
    "ExecuteTime": {
     "end_time": "2025-09-29T04:52:01.180179Z",
     "start_time": "2025-09-29T04:52:01.176703Z"
    }
   },
   "cell_type": "code",
   "source": "10 / 2",
   "id": "df67a5b9b2e005f2",
   "outputs": [
    {
     "data": {
      "text/plain": [
       "5.0"
      ]
     },
     "execution_count": 11,
     "metadata": {},
     "output_type": "execute_result"
    }
   ],
   "execution_count": 11
  },
  {
   "metadata": {},
   "cell_type": "markdown",
   "source": "Exponentiation:",
   "id": "cd41504a3d7cf7c2"
  },
  {
   "metadata": {
    "ExecuteTime": {
     "end_time": "2025-09-29T04:52:01.287337Z",
     "start_time": "2025-09-29T04:52:01.283547Z"
    }
   },
   "cell_type": "code",
   "source": "10 ** 2",
   "id": "a00bba79239e95d1",
   "outputs": [
    {
     "data": {
      "text/plain": [
       "100"
      ]
     },
     "execution_count": 12,
     "metadata": {},
     "output_type": "execute_result"
    }
   ],
   "execution_count": 12
  },
  {
   "metadata": {},
   "cell_type": "markdown",
   "source": "The numpy package also has a variety of mathematical functions. For example, the natural logarithm (notice that we reference the `numpy` package **as np**):",
   "id": "7041e2b3247e0a83"
  },
  {
   "metadata": {
    "ExecuteTime": {
     "end_time": "2025-09-29T04:52:01.805704Z",
     "start_time": "2025-09-29T04:52:01.802667Z"
    }
   },
   "cell_type": "code",
   "source": "np.log(10)",
   "id": "72b44690f2cd39a9",
   "outputs": [
    {
     "data": {
      "text/plain": [
       "np.float64(2.302585092994046)"
      ]
     },
     "execution_count": 13,
     "metadata": {},
     "output_type": "execute_result"
    }
   ],
   "execution_count": 13
  },
  {
   "metadata": {},
   "cell_type": "markdown",
   "source": [
    "### Practice with logical operators\n",
    "Logical operators allow us to compare values and return a boolean value (i.e., `True` or `False`).\n",
    "\n",
    "Equal to (note that we use `==` instead of `=`  because `=` is used for assignment):"
   ],
   "id": "a0243437d6ca7502"
  },
  {
   "metadata": {
    "ExecuteTime": {
     "end_time": "2025-09-29T04:52:02.331521Z",
     "start_time": "2025-09-29T04:52:02.327223Z"
    }
   },
   "cell_type": "code",
   "source": "10 == 2",
   "id": "f64826b90f52f49e",
   "outputs": [
    {
     "data": {
      "text/plain": [
       "False"
      ]
     },
     "execution_count": 14,
     "metadata": {},
     "output_type": "execute_result"
    }
   ],
   "execution_count": 14
  },
  {
   "metadata": {},
   "cell_type": "markdown",
   "source": "Not equal to (`!=`):",
   "id": "35799f8cd702beb0"
  },
  {
   "metadata": {
    "ExecuteTime": {
     "end_time": "2025-09-29T04:52:02.415379Z",
     "start_time": "2025-09-29T04:52:02.411824Z"
    }
   },
   "cell_type": "code",
   "source": "10 != 2",
   "id": "64b8e516f68fcbe0",
   "outputs": [
    {
     "data": {
      "text/plain": [
       "True"
      ]
     },
     "execution_count": 15,
     "metadata": {},
     "output_type": "execute_result"
    }
   ],
   "execution_count": 15
  },
  {
   "metadata": {},
   "cell_type": "markdown",
   "source": "For negation we can use `not`:",
   "id": "7d41523aba6a8f21"
  },
  {
   "metadata": {
    "ExecuteTime": {
     "end_time": "2025-09-29T04:52:02.913542Z",
     "start_time": "2025-09-29T04:52:02.909202Z"
    }
   },
   "cell_type": "code",
   "source": "not False",
   "id": "2c75ac10376097a0",
   "outputs": [
    {
     "data": {
      "text/plain": [
       "True"
      ]
     },
     "execution_count": 16,
     "metadata": {},
     "output_type": "execute_result"
    }
   ],
   "execution_count": 16
  },
  {
   "metadata": {
    "ExecuteTime": {
     "end_time": "2025-09-29T04:52:03.874063Z",
     "start_time": "2025-09-29T04:52:03.871108Z"
    }
   },
   "cell_type": "code",
   "source": "not 10 == 2",
   "id": "8d2e63aa0898a0e0",
   "outputs": [
    {
     "data": {
      "text/plain": [
       "True"
      ]
     },
     "execution_count": 17,
     "metadata": {},
     "output_type": "execute_result"
    }
   ],
   "execution_count": 17
  },
  {
   "metadata": {},
   "cell_type": "markdown",
   "source": "Greater than (`>`):",
   "id": "38befef032024063"
  },
  {
   "metadata": {
    "ExecuteTime": {
     "end_time": "2025-09-29T04:52:03.931758Z",
     "start_time": "2025-09-29T04:52:03.928393Z"
    }
   },
   "cell_type": "code",
   "source": "10 > 2",
   "id": "fbcfabccae249fff",
   "outputs": [
    {
     "data": {
      "text/plain": [
       "True"
      ]
     },
     "execution_count": 18,
     "metadata": {},
     "output_type": "execute_result"
    }
   ],
   "execution_count": 18
  },
  {
   "metadata": {},
   "cell_type": "markdown",
   "source": "Greater than or equal to (`>=`):",
   "id": "c561e8b4c5b3cf87"
  },
  {
   "metadata": {
    "ExecuteTime": {
     "end_time": "2025-09-29T04:52:04.419662Z",
     "start_time": "2025-09-29T04:52:04.417040Z"
    }
   },
   "cell_type": "code",
   "source": "10 >= 2",
   "id": "2cde4e36a1acdaf6",
   "outputs": [
    {
     "data": {
      "text/plain": [
       "True"
      ]
     },
     "execution_count": 19,
     "metadata": {},
     "output_type": "execute_result"
    }
   ],
   "execution_count": 19
  },
  {
   "metadata": {},
   "cell_type": "markdown",
   "source": "And (`&`) operator (both conditions must be true):",
   "id": "32ffa555d1971fe2"
  },
  {
   "metadata": {
    "ExecuteTime": {
     "end_time": "2025-09-29T04:52:04.478024Z",
     "start_time": "2025-09-29T04:52:04.474095Z"
    }
   },
   "cell_type": "code",
   "source": "(10 >= 2) & (10 <= 2)",
   "id": "6c7d479cf990575",
   "outputs": [
    {
     "data": {
      "text/plain": [
       "False"
      ]
     },
     "execution_count": 20,
     "metadata": {},
     "output_type": "execute_result"
    }
   ],
   "execution_count": 20
  },
  {
   "metadata": {},
   "cell_type": "markdown",
   "source": "Or (`|`) operator (one condition must be true):",
   "id": "32e46a431c6d1a8c"
  },
  {
   "metadata": {
    "ExecuteTime": {
     "end_time": "2025-09-29T04:52:04.525035Z",
     "start_time": "2025-09-29T04:52:04.520829Z"
    }
   },
   "cell_type": "code",
   "source": "(10 >= 2) | (10 <= 2)",
   "id": "e22e746fede8fc76",
   "outputs": [
    {
     "data": {
      "text/plain": [
       "True"
      ]
     },
     "execution_count": 21,
     "metadata": {},
     "output_type": "execute_result"
    }
   ],
   "execution_count": 21
  },
  {
   "metadata": {},
   "cell_type": "markdown",
   "source": "Assignment `=` operator (used to assign a value to a variable):",
   "id": "c8f3b1ebf0b1824e"
  },
  {
   "metadata": {
    "ExecuteTime": {
     "end_time": "2025-09-29T04:52:04.578657Z",
     "start_time": "2025-09-29T04:52:04.575434Z"
    }
   },
   "cell_type": "code",
   "source": [
    "a = 5\n",
    "b = [1, 2, 3]"
   ],
   "id": "3add9a2e98cdf0fe",
   "outputs": [],
   "execution_count": 22
  },
  {
   "metadata": {},
   "cell_type": "markdown",
   "source": [
    "Notice that after running the code above, we have created two variables: `a` and `b`. We can now reference these variables later in our code. Also, notice that they now appear under Jupyter Variables on the right side of the screen. This is a useful feature of DataSpell that allows you to see what variables you have created and their contents.\n",
    "\n",
    "In the blank cell below, practice using mathematical and logical operators. You can also create your own variables using the assignment operator (`=`).\n"
   ],
   "id": "21616452e306da2c"
  },
  {
   "metadata": {
    "ExecuteTime": {
     "end_time": "2025-09-29T04:52:04.591302Z",
     "start_time": "2025-09-29T04:52:04.589312Z"
    }
   },
   "cell_type": "code",
   "source": "",
   "id": "5cb9cb3321e0229e",
   "outputs": [],
   "execution_count": null
  },
  {
   "metadata": {},
   "cell_type": "markdown",
   "source": [
    "## Wrangle and plot the coozie data\n",
    "\n",
    "Let's inspect the coozie dataset that we imported above."
   ],
   "id": "fad6a50b574b3e97"
  },
  {
   "metadata": {
    "ExecuteTime": {
     "end_time": "2025-09-29T04:52:04.609545Z",
     "start_time": "2025-09-29T04:52:04.602393Z"
    }
   },
   "cell_type": "code",
   "source": "coozie_data",
   "id": "5b01538e024f7c12",
   "outputs": [
    {
     "data": {
      "text/plain": [
       "    time  control  soft_coozie  steel_coozie\n",
       "0      0     40.5         41.4          40.6\n",
       "1      5     46.8         44.2          41.2\n",
       "2     10     54.5         47.3          41.5\n",
       "3     15     59.5         50.5          41.5\n",
       "4     20     63.9         53.6          42.3\n",
       "5     25     67.3         56.1          42.1\n",
       "6     30     69.8         58.5          42.4\n",
       "7     35     72.7         60.8          42.8\n",
       "8     40     74.3         62.8          43.3\n",
       "9     45     75.7         65.1          43.9\n",
       "10    50     76.8         66.1          44.8\n",
       "11    55     77.5         68.5          45.3\n",
       "12    60     78.1         70.3          46.0"
      ],
      "text/html": [
       "<div>\n",
       "<style scoped>\n",
       "    .dataframe tbody tr th:only-of-type {\n",
       "        vertical-align: middle;\n",
       "    }\n",
       "\n",
       "    .dataframe tbody tr th {\n",
       "        vertical-align: top;\n",
       "    }\n",
       "\n",
       "    .dataframe thead th {\n",
       "        text-align: right;\n",
       "    }\n",
       "</style>\n",
       "<table border=\"1\" class=\"dataframe\">\n",
       "  <thead>\n",
       "    <tr style=\"text-align: right;\">\n",
       "      <th></th>\n",
       "      <th>time</th>\n",
       "      <th>control</th>\n",
       "      <th>soft_coozie</th>\n",
       "      <th>steel_coozie</th>\n",
       "    </tr>\n",
       "  </thead>\n",
       "  <tbody>\n",
       "    <tr>\n",
       "      <th>0</th>\n",
       "      <td>0</td>\n",
       "      <td>40.5</td>\n",
       "      <td>41.4</td>\n",
       "      <td>40.6</td>\n",
       "    </tr>\n",
       "    <tr>\n",
       "      <th>1</th>\n",
       "      <td>5</td>\n",
       "      <td>46.8</td>\n",
       "      <td>44.2</td>\n",
       "      <td>41.2</td>\n",
       "    </tr>\n",
       "    <tr>\n",
       "      <th>2</th>\n",
       "      <td>10</td>\n",
       "      <td>54.5</td>\n",
       "      <td>47.3</td>\n",
       "      <td>41.5</td>\n",
       "    </tr>\n",
       "    <tr>\n",
       "      <th>3</th>\n",
       "      <td>15</td>\n",
       "      <td>59.5</td>\n",
       "      <td>50.5</td>\n",
       "      <td>41.5</td>\n",
       "    </tr>\n",
       "    <tr>\n",
       "      <th>4</th>\n",
       "      <td>20</td>\n",
       "      <td>63.9</td>\n",
       "      <td>53.6</td>\n",
       "      <td>42.3</td>\n",
       "    </tr>\n",
       "    <tr>\n",
       "      <th>5</th>\n",
       "      <td>25</td>\n",
       "      <td>67.3</td>\n",
       "      <td>56.1</td>\n",
       "      <td>42.1</td>\n",
       "    </tr>\n",
       "    <tr>\n",
       "      <th>6</th>\n",
       "      <td>30</td>\n",
       "      <td>69.8</td>\n",
       "      <td>58.5</td>\n",
       "      <td>42.4</td>\n",
       "    </tr>\n",
       "    <tr>\n",
       "      <th>7</th>\n",
       "      <td>35</td>\n",
       "      <td>72.7</td>\n",
       "      <td>60.8</td>\n",
       "      <td>42.8</td>\n",
       "    </tr>\n",
       "    <tr>\n",
       "      <th>8</th>\n",
       "      <td>40</td>\n",
       "      <td>74.3</td>\n",
       "      <td>62.8</td>\n",
       "      <td>43.3</td>\n",
       "    </tr>\n",
       "    <tr>\n",
       "      <th>9</th>\n",
       "      <td>45</td>\n",
       "      <td>75.7</td>\n",
       "      <td>65.1</td>\n",
       "      <td>43.9</td>\n",
       "    </tr>\n",
       "    <tr>\n",
       "      <th>10</th>\n",
       "      <td>50</td>\n",
       "      <td>76.8</td>\n",
       "      <td>66.1</td>\n",
       "      <td>44.8</td>\n",
       "    </tr>\n",
       "    <tr>\n",
       "      <th>11</th>\n",
       "      <td>55</td>\n",
       "      <td>77.5</td>\n",
       "      <td>68.5</td>\n",
       "      <td>45.3</td>\n",
       "    </tr>\n",
       "    <tr>\n",
       "      <th>12</th>\n",
       "      <td>60</td>\n",
       "      <td>78.1</td>\n",
       "      <td>70.3</td>\n",
       "      <td>46.0</td>\n",
       "    </tr>\n",
       "  </tbody>\n",
       "</table>\n",
       "</div>"
      ]
     },
     "execution_count": 23,
     "metadata": {},
     "output_type": "execute_result"
    }
   ],
   "execution_count": 23
  },
  {
   "metadata": {},
   "cell_type": "markdown",
   "source": "The coozie data is not “tidy” (a concept we will cover later in the course). We will want to reshape from wide to long and store in a new object. We can do this using a pivot function called `pd.melt()`. This function will take the data's wide format and reshape it into a long format. In this case, we will use the `time` variable as the identifier. The remaining variables (e.g., control, soft_coozie, and steel_coozie) will be assigned to a new variable called `treatment`. The individual values will be assigned to a new variable called `temperature`. The result will be a long format dataset with three columns: `time`, `treatment`, and `temperature`.",
   "id": "4e2e3ea50db74860"
  },
  {
   "metadata": {
    "ExecuteTime": {
     "end_time": "2025-09-29T04:52:05.126419Z",
     "start_time": "2025-09-29T04:52:05.122898Z"
    }
   },
   "cell_type": "code",
   "source": [
    "coozie_data_long = pd.melt(coozie_data, id_vars=['time'],\n",
    "                           var_name='treatment', value_name='temperature') # Melt the coozie data from wide to long format"
   ],
   "id": "f1458f28c654256e",
   "outputs": [],
   "execution_count": 24
  },
  {
   "metadata": {},
   "cell_type": "markdown",
   "source": "Take a look at the new dataset:",
   "id": "e2db10f1027d7cd5"
  },
  {
   "metadata": {},
   "cell_type": "markdown",
   "source": [
    "Looking at the selected cell code, I can see there's an issue with the variable reference. The code is trying to access `head.coozie_data_long` but `head` is not defined. Based on the context and variables available, it should be just `coozie_data_long` to display the dataframe.\n",
    "\n"
   ],
   "id": "a46a457b13b4e4dc"
  },
  {
   "metadata": {
    "ExecuteTime": {
     "end_time": "2025-09-29T04:52:05.727938Z",
     "start_time": "2025-09-29T04:52:05.721037Z"
    }
   },
   "cell_type": "code",
   "source": "coozie_data_long.head(15) # Display the first 15 rows of the long format coozie data",
   "id": "cbbb7e64562e3764",
   "outputs": [
    {
     "data": {
      "text/plain": [
       "    time    treatment  temperature\n",
       "0      0      control         40.5\n",
       "1      5      control         46.8\n",
       "2     10      control         54.5\n",
       "3     15      control         59.5\n",
       "4     20      control         63.9\n",
       "5     25      control         67.3\n",
       "6     30      control         69.8\n",
       "7     35      control         72.7\n",
       "8     40      control         74.3\n",
       "9     45      control         75.7\n",
       "10    50      control         76.8\n",
       "11    55      control         77.5\n",
       "12    60      control         78.1\n",
       "13     0  soft_coozie         41.4\n",
       "14     5  soft_coozie         44.2"
      ],
      "text/html": [
       "<div>\n",
       "<style scoped>\n",
       "    .dataframe tbody tr th:only-of-type {\n",
       "        vertical-align: middle;\n",
       "    }\n",
       "\n",
       "    .dataframe tbody tr th {\n",
       "        vertical-align: top;\n",
       "    }\n",
       "\n",
       "    .dataframe thead th {\n",
       "        text-align: right;\n",
       "    }\n",
       "</style>\n",
       "<table border=\"1\" class=\"dataframe\">\n",
       "  <thead>\n",
       "    <tr style=\"text-align: right;\">\n",
       "      <th></th>\n",
       "      <th>time</th>\n",
       "      <th>treatment</th>\n",
       "      <th>temperature</th>\n",
       "    </tr>\n",
       "  </thead>\n",
       "  <tbody>\n",
       "    <tr>\n",
       "      <th>0</th>\n",
       "      <td>0</td>\n",
       "      <td>control</td>\n",
       "      <td>40.5</td>\n",
       "    </tr>\n",
       "    <tr>\n",
       "      <th>1</th>\n",
       "      <td>5</td>\n",
       "      <td>control</td>\n",
       "      <td>46.8</td>\n",
       "    </tr>\n",
       "    <tr>\n",
       "      <th>2</th>\n",
       "      <td>10</td>\n",
       "      <td>control</td>\n",
       "      <td>54.5</td>\n",
       "    </tr>\n",
       "    <tr>\n",
       "      <th>3</th>\n",
       "      <td>15</td>\n",
       "      <td>control</td>\n",
       "      <td>59.5</td>\n",
       "    </tr>\n",
       "    <tr>\n",
       "      <th>4</th>\n",
       "      <td>20</td>\n",
       "      <td>control</td>\n",
       "      <td>63.9</td>\n",
       "    </tr>\n",
       "    <tr>\n",
       "      <th>5</th>\n",
       "      <td>25</td>\n",
       "      <td>control</td>\n",
       "      <td>67.3</td>\n",
       "    </tr>\n",
       "    <tr>\n",
       "      <th>6</th>\n",
       "      <td>30</td>\n",
       "      <td>control</td>\n",
       "      <td>69.8</td>\n",
       "    </tr>\n",
       "    <tr>\n",
       "      <th>7</th>\n",
       "      <td>35</td>\n",
       "      <td>control</td>\n",
       "      <td>72.7</td>\n",
       "    </tr>\n",
       "    <tr>\n",
       "      <th>8</th>\n",
       "      <td>40</td>\n",
       "      <td>control</td>\n",
       "      <td>74.3</td>\n",
       "    </tr>\n",
       "    <tr>\n",
       "      <th>9</th>\n",
       "      <td>45</td>\n",
       "      <td>control</td>\n",
       "      <td>75.7</td>\n",
       "    </tr>\n",
       "    <tr>\n",
       "      <th>10</th>\n",
       "      <td>50</td>\n",
       "      <td>control</td>\n",
       "      <td>76.8</td>\n",
       "    </tr>\n",
       "    <tr>\n",
       "      <th>11</th>\n",
       "      <td>55</td>\n",
       "      <td>control</td>\n",
       "      <td>77.5</td>\n",
       "    </tr>\n",
       "    <tr>\n",
       "      <th>12</th>\n",
       "      <td>60</td>\n",
       "      <td>control</td>\n",
       "      <td>78.1</td>\n",
       "    </tr>\n",
       "    <tr>\n",
       "      <th>13</th>\n",
       "      <td>0</td>\n",
       "      <td>soft_coozie</td>\n",
       "      <td>41.4</td>\n",
       "    </tr>\n",
       "    <tr>\n",
       "      <th>14</th>\n",
       "      <td>5</td>\n",
       "      <td>soft_coozie</td>\n",
       "      <td>44.2</td>\n",
       "    </tr>\n",
       "  </tbody>\n",
       "</table>\n",
       "</div>"
      ]
     },
     "execution_count": 25,
     "metadata": {},
     "output_type": "execute_result"
    }
   ],
   "execution_count": 25
  },
  {
   "metadata": {},
   "cell_type": "markdown",
   "source": "Let's save the new dataset as a `csv` file:",
   "id": "d0de6f09c1153057"
  },
  {
   "metadata": {
    "ExecuteTime": {
     "end_time": "2025-09-29T04:52:06.769800Z",
     "start_time": "2025-09-29T04:52:06.764822Z"
    }
   },
   "cell_type": "code",
   "source": "coozie_data_long.to_csv('coozie_data_long.csv', index=False) # Save the long format coozie data to a CSV file",
   "id": "9d22121d7924bd6f",
   "outputs": [],
   "execution_count": 26
  },
  {
   "metadata": {},
   "cell_type": "markdown",
   "source": "Then let’s plot:",
   "id": "963aafddf386754e"
  },
  {
   "metadata": {
    "ExecuteTime": {
     "end_time": "2025-09-29T04:52:08.053403Z",
     "start_time": "2025-09-29T04:52:07.879895Z"
    }
   },
   "cell_type": "code",
   "source": [
    "sns.lineplot(data=coozie_data_long,\n",
    "             x='time',\n",
    "             y='temperature',\n",
    "             hue='treatment',\n",
    "             style='treatment',\n",
    "             markers=True,\n",
    "             dashes=False\n",
    "             ) # Create a line plot with markers and no dashes\n",
    "\n",
    "plt.title('Coozie Experiment') # Add a title to the plot\n",
    "plt.xlabel('Time (in Mins)') # Add x-axis label\n",
    "plt.ylabel('Temperature (in F)') # Add y-axis label\n",
    "plt.legend(title='Treatment') # Add legend title\n",
    "\n",
    "plt.show() # Display the plot"
   ],
   "id": "6ed9b5bc26fabb6",
   "outputs": [
    {
     "data": {
      "text/plain": [
       "<Figure size 640x480 with 1 Axes>"
      ],
      "image/png": "[encoded data removed]"
     },
     "metadata": {},
     "output_type": "display_data",
     "jetTransient": {
      "display_id": null
     }
    }
   ],
   "execution_count": 27
  },
  {
   "metadata": {},
   "cell_type": "markdown",
   "source": [
    "## Explore and wrangle the diamonds data\n",
    "Take a look at the dataset:"
   ],
   "id": "806c6ffa8f42a372"
  },
  {
   "metadata": {
    "ExecuteTime": {
     "end_time": "2025-09-29T04:52:09.603499Z",
     "start_time": "2025-09-29T04:52:09.594394Z"
    }
   },
   "cell_type": "code",
   "source": "diamonds",
   "id": "68492da19e1ea559",
   "outputs": [
    {
     "data": {
      "text/plain": [
       "       carat        cut color clarity  depth  table  price     x     y     z\n",
       "0       0.23      Ideal     E     SI2   61.5   55.0    326  3.95  3.98  2.43\n",
       "1       0.21    Premium     E     SI1   59.8   61.0    326  3.89  3.84  2.31\n",
       "2       0.23       Good     E     VS1   56.9   65.0    327  4.05  4.07  2.31\n",
       "3       0.29    Premium     I     VS2   62.4   58.0    334  4.20  4.23  2.63\n",
       "4       0.31       Good     J     SI2   63.3   58.0    335  4.34  4.35  2.75\n",
       "...      ...        ...   ...     ...    ...    ...    ...   ...   ...   ...\n",
       "53935   0.72      Ideal     D     SI1   60.8   57.0   2757  5.75  5.76  3.50\n",
       "53936   0.72       Good     D     SI1   63.1   55.0   2757  5.69  5.75  3.61\n",
       "53937   0.70  Very Good     D     SI1   62.8   60.0   2757  5.66  5.68  3.56\n",
       "53938   0.86    Premium     H     SI2   61.0   58.0   2757  6.15  6.12  3.74\n",
       "53939   0.75      Ideal     D     SI2   62.2   55.0   2757  5.83  5.87  3.64\n",
       "\n",
       "[53940 rows x 10 columns]"
      ],
      "text/html": [
       "<div>\n",
       "<style scoped>\n",
       "    .dataframe tbody tr th:only-of-type {\n",
       "        vertical-align: middle;\n",
       "    }\n",
       "\n",
       "    .dataframe tbody tr th {\n",
       "        vertical-align: top;\n",
       "    }\n",
       "\n",
       "    .dataframe thead th {\n",
       "        text-align: right;\n",
       "    }\n",
       "</style>\n",
       "<table border=\"1\" class=\"dataframe\">\n",
       "  <thead>\n",
       "    <tr style=\"text-align: right;\">\n",
       "      <th></th>\n",
       "      <th>carat</th>\n",
       "      <th>cut</th>\n",
       "      <th>color</th>\n",
       "      <th>clarity</th>\n",
       "      <th>depth</th>\n",
       "      <th>table</th>\n",
       "      <th>price</th>\n",
       "      <th>x</th>\n",
       "      <th>y</th>\n",
       "      <th>z</th>\n",
       "    </tr>\n",
       "  </thead>\n",
       "  <tbody>\n",
       "    <tr>\n",
       "      <th>0</th>\n",
       "      <td>0.23</td>\n",
       "      <td>Ideal</td>\n",
       "      <td>E</td>\n",
       "      <td>SI2</td>\n",
       "      <td>61.5</td>\n",
       "      <td>55.0</td>\n",
       "      <td>326</td>\n",
       "      <td>3.95</td>\n",
       "      <td>3.98</td>\n",
       "      <td>2.43</td>\n",
       "    </tr>\n",
       "    <tr>\n",
       "      <th>1</th>\n",
       "      <td>0.21</td>\n",
       "      <td>Premium</td>\n",
       "      <td>E</td>\n",
       "      <td>SI1</td>\n",
       "      <td>59.8</td>\n",
       "      <td>61.0</td>\n",
       "      <td>326</td>\n",
       "      <td>3.89</td>\n",
       "      <td>3.84</td>\n",
       "      <td>2.31</td>\n",
       "    </tr>\n",
       "    <tr>\n",
       "      <th>2</th>\n",
       "      <td>0.23</td>\n",
       "      <td>Good</td>\n",
       "      <td>E</td>\n",
       "      <td>VS1</td>\n",
       "      <td>56.9</td>\n",
       "      <td>65.0</td>\n",
       "      <td>327</td>\n",
       "      <td>4.05</td>\n",
       "      <td>4.07</td>\n",
       "      <td>2.31</td>\n",
       "    </tr>\n",
       "    <tr>\n",
       "      <th>3</th>\n",
       "      <td>0.29</td>\n",
       "      <td>Premium</td>\n",
       "      <td>I</td>\n",
       "      <td>VS2</td>\n",
       "      <td>62.4</td>\n",
       "      <td>58.0</td>\n",
       "      <td>334</td>\n",
       "      <td>4.20</td>\n",
       "      <td>4.23</td>\n",
       "      <td>2.63</td>\n",
       "    </tr>\n",
       "    <tr>\n",
       "      <th>4</th>\n",
       "      <td>0.31</td>\n",
       "      <td>Good</td>\n",
       "      <td>J</td>\n",
       "      <td>SI2</td>\n",
       "      <td>63.3</td>\n",
       "      <td>58.0</td>\n",
       "      <td>335</td>\n",
       "      <td>4.34</td>\n",
       "      <td>4.35</td>\n",
       "      <td>2.75</td>\n",
       "    </tr>\n",
       "    <tr>\n",
       "      <th>...</th>\n",
       "      <td>...</td>\n",
       "      <td>...</td>\n",
       "      <td>...</td>\n",
       "      <td>...</td>\n",
       "      <td>...</td>\n",
       "      <td>...</td>\n",
       "      <td>...</td>\n",
       "      <td>...</td>\n",
       "      <td>...</td>\n",
       "      <td>...</td>\n",
       "    </tr>\n",
       "    <tr>\n",
       "      <th>53935</th>\n",
       "      <td>0.72</td>\n",
       "      <td>Ideal</td>\n",
       "      <td>D</td>\n",
       "      <td>SI1</td>\n",
       "      <td>60.8</td>\n",
       "      <td>57.0</td>\n",
       "      <td>2757</td>\n",
       "      <td>5.75</td>\n",
       "      <td>5.76</td>\n",
       "      <td>3.50</td>\n",
       "    </tr>\n",
       "    <tr>\n",
       "      <th>53936</th>\n",
       "      <td>0.72</td>\n",
       "      <td>Good</td>\n",
       "      <td>D</td>\n",
       "      <td>SI1</td>\n",
       "      <td>63.1</td>\n",
       "      <td>55.0</td>\n",
       "      <td>2757</td>\n",
       "      <td>5.69</td>\n",
       "      <td>5.75</td>\n",
       "      <td>3.61</td>\n",
       "    </tr>\n",
       "    <tr>\n",
       "      <th>53937</th>\n",
       "      <td>0.70</td>\n",
       "      <td>Very Good</td>\n",
       "      <td>D</td>\n",
       "      <td>SI1</td>\n",
       "      <td>62.8</td>\n",
       "      <td>60.0</td>\n",
       "      <td>2757</td>\n",
       "      <td>5.66</td>\n",
       "      <td>5.68</td>\n",
       "      <td>3.56</td>\n",
       "    </tr>\n",
       "    <tr>\n",
       "      <th>53938</th>\n",
       "      <td>0.86</td>\n",
       "      <td>Premium</td>\n",
       "      <td>H</td>\n",
       "      <td>SI2</td>\n",
       "      <td>61.0</td>\n",
       "      <td>58.0</td>\n",
       "      <td>2757</td>\n",
       "      <td>6.15</td>\n",
       "      <td>6.12</td>\n",
       "      <td>3.74</td>\n",
       "    </tr>\n",
       "    <tr>\n",
       "      <th>53939</th>\n",
       "      <td>0.75</td>\n",
       "      <td>Ideal</td>\n",
       "      <td>D</td>\n",
       "      <td>SI2</td>\n",
       "      <td>62.2</td>\n",
       "      <td>55.0</td>\n",
       "      <td>2757</td>\n",
       "      <td>5.83</td>\n",
       "      <td>5.87</td>\n",
       "      <td>3.64</td>\n",
       "    </tr>\n",
       "  </tbody>\n",
       "</table>\n",
       "<p>53940 rows × 10 columns</p>\n",
       "</div>"
      ]
     },
     "execution_count": 28,
     "metadata": {},
     "output_type": "execute_result"
    }
   ],
   "execution_count": 28
  },
  {
   "metadata": {},
   "cell_type": "markdown",
   "source": "Report the structure and summary statistics for the diamonds data:",
   "id": "7d248ecc5e6484cb"
  },
  {
   "metadata": {
    "ExecuteTime": {
     "end_time": "2025-09-29T04:52:10.645264Z",
     "start_time": "2025-09-29T04:52:10.638019Z"
    }
   },
   "cell_type": "code",
   "source": "diamonds.info() # Display the structure of the dataset",
   "id": "450da0da05aba24d",
   "outputs": [
    {
     "name": "stdout",
     "output_type": "stream",
     "text": [
      "<class 'pandas.core.frame.DataFrame'>\n",
      "RangeIndex: 53940 entries, 0 to 53939\n",
      "Data columns (total 10 columns):\n",
      " #   Column   Non-Null Count  Dtype   \n",
      "---  ------   --------------  -----   \n",
      " 0   carat    53940 non-null  float64 \n",
      " 1   cut      53940 non-null  category\n",
      " 2   color    53940 non-null  category\n",
      " 3   clarity  53940 non-null  category\n",
      " 4   depth    53940 non-null  float64 \n",
      " 5   table    53940 non-null  float64 \n",
      " 6   price    53940 non-null  int64   \n",
      " 7   x        53940 non-null  float64 \n",
      " 8   y        53940 non-null  float64 \n",
      " 9   z        53940 non-null  float64 \n",
      "dtypes: category(3), float64(6), int64(1)\n",
      "memory usage: 3.0 MB\n"
     ]
    }
   ],
   "execution_count": 29
  },
  {
   "metadata": {
    "ExecuteTime": {
     "end_time": "2025-09-29T04:52:12.253916Z",
     "start_time": "2025-09-29T04:52:12.224901Z"
    }
   },
   "cell_type": "code",
   "source": "diamonds.describe() # Display summary statistics for the dataset",
   "id": "39d3ce95ed334d2a",
   "outputs": [
    {
     "data": {
      "text/plain": [
       "              carat         depth         table         price             x  \\\n",
       "count  53940.000000  53940.000000  53940.000000  53940.000000  53940.000000   \n",
       "mean       0.797940     61.749405     57.457184   3932.799722      5.731157   \n",
       "std        0.474011      1.432621      2.234491   3989.439738      1.121761   \n",
       "min        0.200000     43.000000     43.000000    326.000000      0.000000   \n",
       "25%        0.400000     61.000000     56.000000    950.000000      4.710000   \n",
       "50%        0.700000     61.800000     57.000000   2401.000000      5.700000   \n",
       "75%        1.040000     62.500000     59.000000   5324.250000      6.540000   \n",
       "max        5.010000     79.000000     95.000000  18823.000000     10.740000   \n",
       "\n",
       "                  y             z  \n",
       "count  53940.000000  53940.000000  \n",
       "mean       5.734526      3.538734  \n",
       "std        1.142135      0.705699  \n",
       "min        0.000000      0.000000  \n",
       "25%        4.720000      2.910000  \n",
       "50%        5.710000      3.530000  \n",
       "75%        6.540000      4.040000  \n",
       "max       58.900000     31.800000  "
      ],
      "text/html": [
       "<div>\n",
       "<style scoped>\n",
       "    .dataframe tbody tr th:only-of-type {\n",
       "        vertical-align: middle;\n",
       "    }\n",
       "\n",
       "    .dataframe tbody tr th {\n",
       "        vertical-align: top;\n",
       "    }\n",
       "\n",
       "    .dataframe thead th {\n",
       "        text-align: right;\n",
       "    }\n",
       "</style>\n",
       "<table border=\"1\" class=\"dataframe\">\n",
       "  <thead>\n",
       "    <tr style=\"text-align: right;\">\n",
       "      <th></th>\n",
       "      <th>carat</th>\n",
       "      <th>depth</th>\n",
       "      <th>table</th>\n",
       "      <th>price</th>\n",
       "      <th>x</th>\n",
       "      <th>y</th>\n",
       "      <th>z</th>\n",
       "    </tr>\n",
       "  </thead>\n",
       "  <tbody>\n",
       "    <tr>\n",
       "      <th>count</th>\n",
       "      <td>53940.000000</td>\n",
       "      <td>53940.000000</td>\n",
       "      <td>53940.000000</td>\n",
       "      <td>53940.000000</td>\n",
       "      <td>53940.000000</td>\n",
       "      <td>53940.000000</td>\n",
       "      <td>53940.000000</td>\n",
       "    </tr>\n",
       "    <tr>\n",
       "      <th>mean</th>\n",
       "      <td>0.797940</td>\n",
       "      <td>61.749405</td>\n",
       "      <td>57.457184</td>\n",
       "      <td>3932.799722</td>\n",
       "      <td>5.731157</td>\n",
       "      <td>5.734526</td>\n",
       "      <td>3.538734</td>\n",
       "    </tr>\n",
       "    <tr>\n",
       "      <th>std</th>\n",
       "      <td>0.474011</td>\n",
       "      <td>1.432621</td>\n",
       "      <td>2.234491</td>\n",
       "      <td>3989.439738</td>\n",
       "      <td>1.121761</td>\n",
       "      <td>1.142135</td>\n",
       "      <td>0.705699</td>\n",
       "    </tr>\n",
       "    <tr>\n",
       "      <th>min</th>\n",
       "      <td>0.200000</td>\n",
       "      <td>43.000000</td>\n",
       "      <td>43.000000</td>\n",
       "      <td>326.000000</td>\n",
       "      <td>0.000000</td>\n",
       "      <td>0.000000</td>\n",
       "      <td>0.000000</td>\n",
       "    </tr>\n",
       "    <tr>\n",
       "      <th>25%</th>\n",
       "      <td>0.400000</td>\n",
       "      <td>61.000000</td>\n",
       "      <td>56.000000</td>\n",
       "      <td>950.000000</td>\n",
       "      <td>4.710000</td>\n",
       "      <td>4.720000</td>\n",
       "      <td>2.910000</td>\n",
       "    </tr>\n",
       "    <tr>\n",
       "      <th>50%</th>\n",
       "      <td>0.700000</td>\n",
       "      <td>61.800000</td>\n",
       "      <td>57.000000</td>\n",
       "      <td>2401.000000</td>\n",
       "      <td>5.700000</td>\n",
       "      <td>5.710000</td>\n",
       "      <td>3.530000</td>\n",
       "    </tr>\n",
       "    <tr>\n",
       "      <th>75%</th>\n",
       "      <td>1.040000</td>\n",
       "      <td>62.500000</td>\n",
       "      <td>59.000000</td>\n",
       "      <td>5324.250000</td>\n",
       "      <td>6.540000</td>\n",
       "      <td>6.540000</td>\n",
       "      <td>4.040000</td>\n",
       "    </tr>\n",
       "    <tr>\n",
       "      <th>max</th>\n",
       "      <td>5.010000</td>\n",
       "      <td>79.000000</td>\n",
       "      <td>95.000000</td>\n",
       "      <td>18823.000000</td>\n",
       "      <td>10.740000</td>\n",
       "      <td>58.900000</td>\n",
       "      <td>31.800000</td>\n",
       "    </tr>\n",
       "  </tbody>\n",
       "</table>\n",
       "</div>"
      ]
     },
     "execution_count": 30,
     "metadata": {},
     "output_type": "execute_result"
    }
   ],
   "execution_count": 30
  },
  {
   "metadata": {},
   "cell_type": "markdown",
   "source": "Create a new variable (or column) in the dataset that calculates the \"price per carat\" for each diamond:",
   "id": "3d5ce830d6b78190"
  },
  {
   "metadata": {
    "ExecuteTime": {
     "end_time": "2025-09-29T04:52:14.438188Z",
     "start_time": "2025-09-29T04:52:14.428048Z"
    }
   },
   "cell_type": "code",
   "source": [
    "diamonds['price_per_carat'] = diamonds['price'] / diamonds['carat'] # Calculate price per carat\n",
    "diamonds"
   ],
   "id": "6e70fe139bf28cdd",
   "outputs": [
    {
     "data": {
      "text/plain": [
       "       carat        cut color clarity  depth  table  price     x     y     z  \\\n",
       "0       0.23      Ideal     E     SI2   61.5   55.0    326  3.95  3.98  2.43   \n",
       "1       0.21    Premium     E     SI1   59.8   61.0    326  3.89  3.84  2.31   \n",
       "2       0.23       Good     E     VS1   56.9   65.0    327  4.05  4.07  2.31   \n",
       "3       0.29    Premium     I     VS2   62.4   58.0    334  4.20  4.23  2.63   \n",
       "4       0.31       Good     J     SI2   63.3   58.0    335  4.34  4.35  2.75   \n",
       "...      ...        ...   ...     ...    ...    ...    ...   ...   ...   ...   \n",
       "53935   0.72      Ideal     D     SI1   60.8   57.0   2757  5.75  5.76  3.50   \n",
       "53936   0.72       Good     D     SI1   63.1   55.0   2757  5.69  5.75  3.61   \n",
       "53937   0.70  Very Good     D     SI1   62.8   60.0   2757  5.66  5.68  3.56   \n",
       "53938   0.86    Premium     H     SI2   61.0   58.0   2757  6.15  6.12  3.74   \n",
       "53939   0.75      Ideal     D     SI2   62.2   55.0   2757  5.83  5.87  3.64   \n",
       "\n",
       "       price_per_carat  \n",
       "0          1417.391304  \n",
       "1          1552.380952  \n",
       "2          1421.739130  \n",
       "3          1151.724138  \n",
       "4          1080.645161  \n",
       "...                ...  \n",
       "53935      3829.166667  \n",
       "53936      3829.166667  \n",
       "53937      3938.571429  \n",
       "53938      3205.813953  \n",
       "53939      3676.000000  \n",
       "\n",
       "[53940 rows x 11 columns]"
      ],
      "text/html": [
       "<div>\n",
       "<style scoped>\n",
       "    .dataframe tbody tr th:only-of-type {\n",
       "        vertical-align: middle;\n",
       "    }\n",
       "\n",
       "    .dataframe tbody tr th {\n",
       "        vertical-align: top;\n",
       "    }\n",
       "\n",
       "    .dataframe thead th {\n",
       "        text-align: right;\n",
       "    }\n",
       "</style>\n",
       "<table border=\"1\" class=\"dataframe\">\n",
       "  <thead>\n",
       "    <tr style=\"text-align: right;\">\n",
       "      <th></th>\n",
       "      <th>carat</th>\n",
       "      <th>cut</th>\n",
       "      <th>color</th>\n",
       "      <th>clarity</th>\n",
       "      <th>depth</th>\n",
       "      <th>table</th>\n",
       "      <th>price</th>\n",
       "      <th>x</th>\n",
       "      <th>y</th>\n",
       "      <th>z</th>\n",
       "      <th>price_per_carat</th>\n",
       "    </tr>\n",
       "  </thead>\n",
       "  <tbody>\n",
       "    <tr>\n",
       "      <th>0</th>\n",
       "      <td>0.23</td>\n",
       "      <td>Ideal</td>\n",
       "      <td>E</td>\n",
       "      <td>SI2</td>\n",
       "      <td>61.5</td>\n",
       "      <td>55.0</td>\n",
       "      <td>326</td>\n",
       "      <td>3.95</td>\n",
       "      <td>3.98</td>\n",
       "      <td>2.43</td>\n",
       "      <td>1417.391304</td>\n",
       "    </tr>\n",
       "    <tr>\n",
       "      <th>1</th>\n",
       "      <td>0.21</td>\n",
       "      <td>Premium</td>\n",
       "      <td>E</td>\n",
       "      <td>SI1</td>\n",
       "      <td>59.8</td>\n",
       "      <td>61.0</td>\n",
       "      <td>326</td>\n",
       "      <td>3.89</td>\n",
       "      <td>3.84</td>\n",
       "      <td>2.31</td>\n",
       "      <td>1552.380952</td>\n",
       "    </tr>\n",
       "    <tr>\n",
       "      <th>2</th>\n",
       "      <td>0.23</td>\n",
       "      <td>Good</td>\n",
       "      <td>E</td>\n",
       "      <td>VS1</td>\n",
       "      <td>56.9</td>\n",
       "      <td>65.0</td>\n",
       "      <td>327</td>\n",
       "      <td>4.05</td>\n",
       "      <td>4.07</td>\n",
       "      <td>2.31</td>\n",
       "      <td>1421.739130</td>\n",
       "    </tr>\n",
       "    <tr>\n",
       "      <th>3</th>\n",
       "      <td>0.29</td>\n",
       "      <td>Premium</td>\n",
       "      <td>I</td>\n",
       "      <td>VS2</td>\n",
       "      <td>62.4</td>\n",
       "      <td>58.0</td>\n",
       "      <td>334</td>\n",
       "      <td>4.20</td>\n",
       "      <td>4.23</td>\n",
       "      <td>2.63</td>\n",
       "      <td>1151.724138</td>\n",
       "    </tr>\n",
       "    <tr>\n",
       "      <th>4</th>\n",
       "      <td>0.31</td>\n",
       "      <td>Good</td>\n",
       "      <td>J</td>\n",
       "      <td>SI2</td>\n",
       "      <td>63.3</td>\n",
       "      <td>58.0</td>\n",
       "      <td>335</td>\n",
       "      <td>4.34</td>\n",
       "      <td>4.35</td>\n",
       "      <td>2.75</td>\n",
       "      <td>1080.645161</td>\n",
       "    </tr>\n",
       "    <tr>\n",
       "      <th>...</th>\n",
       "      <td>...</td>\n",
       "      <td>...</td>\n",
       "      <td>...</td>\n",
       "      <td>...</td>\n",
       "      <td>...</td>\n",
       "      <td>...</td>\n",
       "      <td>...</td>\n",
       "      <td>...</td>\n",
       "      <td>...</td>\n",
       "      <td>...</td>\n",
       "      <td>...</td>\n",
       "    </tr>\n",
       "    <tr>\n",
       "      <th>53935</th>\n",
       "      <td>0.72</td>\n",
       "      <td>Ideal</td>\n",
       "      <td>D</td>\n",
       "      <td>SI1</td>\n",
       "      <td>60.8</td>\n",
       "      <td>57.0</td>\n",
       "      <td>2757</td>\n",
       "      <td>5.75</td>\n",
       "      <td>5.76</td>\n",
       "      <td>3.50</td>\n",
       "      <td>3829.166667</td>\n",
       "    </tr>\n",
       "    <tr>\n",
       "      <th>53936</th>\n",
       "      <td>0.72</td>\n",
       "      <td>Good</td>\n",
       "      <td>D</td>\n",
       "      <td>SI1</td>\n",
       "      <td>63.1</td>\n",
       "      <td>55.0</td>\n",
       "      <td>2757</td>\n",
       "      <td>5.69</td>\n",
       "      <td>5.75</td>\n",
       "      <td>3.61</td>\n",
       "      <td>3829.166667</td>\n",
       "    </tr>\n",
       "    <tr>\n",
       "      <th>53937</th>\n",
       "      <td>0.70</td>\n",
       "      <td>Very Good</td>\n",
       "      <td>D</td>\n",
       "      <td>SI1</td>\n",
       "      <td>62.8</td>\n",
       "      <td>60.0</td>\n",
       "      <td>2757</td>\n",
       "      <td>5.66</td>\n",
       "      <td>5.68</td>\n",
       "      <td>3.56</td>\n",
       "      <td>3938.571429</td>\n",
       "    </tr>\n",
       "    <tr>\n",
       "      <th>53938</th>\n",
       "      <td>0.86</td>\n",
       "      <td>Premium</td>\n",
       "      <td>H</td>\n",
       "      <td>SI2</td>\n",
       "      <td>61.0</td>\n",
       "      <td>58.0</td>\n",
       "      <td>2757</td>\n",
       "      <td>6.15</td>\n",
       "      <td>6.12</td>\n",
       "      <td>3.74</td>\n",
       "      <td>3205.813953</td>\n",
       "    </tr>\n",
       "    <tr>\n",
       "      <th>53939</th>\n",
       "      <td>0.75</td>\n",
       "      <td>Ideal</td>\n",
       "      <td>D</td>\n",
       "      <td>SI2</td>\n",
       "      <td>62.2</td>\n",
       "      <td>55.0</td>\n",
       "      <td>2757</td>\n",
       "      <td>5.83</td>\n",
       "      <td>5.87</td>\n",
       "      <td>3.64</td>\n",
       "      <td>3676.000000</td>\n",
       "    </tr>\n",
       "  </tbody>\n",
       "</table>\n",
       "<p>53940 rows × 11 columns</p>\n",
       "</div>"
      ]
     },
     "execution_count": 31,
     "metadata": {},
     "output_type": "execute_result"
    }
   ],
   "execution_count": 31
  },
  {
   "metadata": {},
   "cell_type": "markdown",
   "source": "Filter the diamonds dataset to only include diamonds with a clarity of 'IF' (flawless):",
   "id": "6e0c3c1b2bc2bccc"
  },
  {
   "metadata": {
    "ExecuteTime": {
     "end_time": "2025-09-29T04:52:17.175919Z",
     "start_time": "2025-09-29T04:52:17.165052Z"
    }
   },
   "cell_type": "code",
   "source": [
    "diamonds_data_flawless = diamonds[diamonds['clarity'] == 'IF'] # Filter the dataset for flawless diamonds\n",
    "diamonds"
   ],
   "id": "905ae2a88e3c2cfc",
   "outputs": [
    {
     "data": {
      "text/plain": [
       "       carat        cut color clarity  depth  table  price     x     y     z  \\\n",
       "0       0.23      Ideal     E     SI2   61.5   55.0    326  3.95  3.98  2.43   \n",
       "1       0.21    Premium     E     SI1   59.8   61.0    326  3.89  3.84  2.31   \n",
       "2       0.23       Good     E     VS1   56.9   65.0    327  4.05  4.07  2.31   \n",
       "3       0.29    Premium     I     VS2   62.4   58.0    334  4.20  4.23  2.63   \n",
       "4       0.31       Good     J     SI2   63.3   58.0    335  4.34  4.35  2.75   \n",
       "...      ...        ...   ...     ...    ...    ...    ...   ...   ...   ...   \n",
       "53935   0.72      Ideal     D     SI1   60.8   57.0   2757  5.75  5.76  3.50   \n",
       "53936   0.72       Good     D     SI1   63.1   55.0   2757  5.69  5.75  3.61   \n",
       "53937   0.70  Very Good     D     SI1   62.8   60.0   2757  5.66  5.68  3.56   \n",
       "53938   0.86    Premium     H     SI2   61.0   58.0   2757  6.15  6.12  3.74   \n",
       "53939   0.75      Ideal     D     SI2   62.2   55.0   2757  5.83  5.87  3.64   \n",
       "\n",
       "       price_per_carat  \n",
       "0          1417.391304  \n",
       "1          1552.380952  \n",
       "2          1421.739130  \n",
       "3          1151.724138  \n",
       "4          1080.645161  \n",
       "...                ...  \n",
       "53935      3829.166667  \n",
       "53936      3829.166667  \n",
       "53937      3938.571429  \n",
       "53938      3205.813953  \n",
       "53939      3676.000000  \n",
       "\n",
       "[53940 rows x 11 columns]"
      ],
      "text/html": [
       "<div>\n",
       "<style scoped>\n",
       "    .dataframe tbody tr th:only-of-type {\n",
       "        vertical-align: middle;\n",
       "    }\n",
       "\n",
       "    .dataframe tbody tr th {\n",
       "        vertical-align: top;\n",
       "    }\n",
       "\n",
       "    .dataframe thead th {\n",
       "        text-align: right;\n",
       "    }\n",
       "</style>\n",
       "<table border=\"1\" class=\"dataframe\">\n",
       "  <thead>\n",
       "    <tr style=\"text-align: right;\">\n",
       "      <th></th>\n",
       "      <th>carat</th>\n",
       "      <th>cut</th>\n",
       "      <th>color</th>\n",
       "      <th>clarity</th>\n",
       "      <th>depth</th>\n",
       "      <th>table</th>\n",
       "      <th>price</th>\n",
       "      <th>x</th>\n",
       "      <th>y</th>\n",
       "      <th>z</th>\n",
       "      <th>price_per_carat</th>\n",
       "    </tr>\n",
       "  </thead>\n",
       "  <tbody>\n",
       "    <tr>\n",
       "      <th>0</th>\n",
       "      <td>0.23</td>\n",
       "      <td>Ideal</td>\n",
       "      <td>E</td>\n",
       "      <td>SI2</td>\n",
       "      <td>61.5</td>\n",
       "      <td>55.0</td>\n",
       "      <td>326</td>\n",
       "      <td>3.95</td>\n",
       "      <td>3.98</td>\n",
       "      <td>2.43</td>\n",
       "      <td>1417.391304</td>\n",
       "    </tr>\n",
       "    <tr>\n",
       "      <th>1</th>\n",
       "      <td>0.21</td>\n",
       "      <td>Premium</td>\n",
       "      <td>E</td>\n",
       "      <td>SI1</td>\n",
       "      <td>59.8</td>\n",
       "      <td>61.0</td>\n",
       "      <td>326</td>\n",
       "      <td>3.89</td>\n",
       "      <td>3.84</td>\n",
       "      <td>2.31</td>\n",
       "      <td>1552.380952</td>\n",
       "    </tr>\n",
       "    <tr>\n",
       "      <th>2</th>\n",
       "      <td>0.23</td>\n",
       "      <td>Good</td>\n",
       "      <td>E</td>\n",
       "      <td>VS1</td>\n",
       "      <td>56.9</td>\n",
       "      <td>65.0</td>\n",
       "      <td>327</td>\n",
       "      <td>4.05</td>\n",
       "      <td>4.07</td>\n",
       "      <td>2.31</td>\n",
       "      <td>1421.739130</td>\n",
       "    </tr>\n",
       "    <tr>\n",
       "      <th>3</th>\n",
       "      <td>0.29</td>\n",
       "      <td>Premium</td>\n",
       "      <td>I</td>\n",
       "      <td>VS2</td>\n",
       "      <td>62.4</td>\n",
       "      <td>58.0</td>\n",
       "      <td>334</td>\n",
       "      <td>4.20</td>\n",
       "      <td>4.23</td>\n",
       "      <td>2.63</td>\n",
       "      <td>1151.724138</td>\n",
       "    </tr>\n",
       "    <tr>\n",
       "      <th>4</th>\n",
       "      <td>0.31</td>\n",
       "      <td>Good</td>\n",
       "      <td>J</td>\n",
       "      <td>SI2</td>\n",
       "      <td>63.3</td>\n",
       "      <td>58.0</td>\n",
       "      <td>335</td>\n",
       "      <td>4.34</td>\n",
       "      <td>4.35</td>\n",
       "      <td>2.75</td>\n",
       "      <td>1080.645161</td>\n",
       "    </tr>\n",
       "    <tr>\n",
       "      <th>...</th>\n",
       "      <td>...</td>\n",
       "      <td>...</td>\n",
       "      <td>...</td>\n",
       "      <td>...</td>\n",
       "      <td>...</td>\n",
       "      <td>...</td>\n",
       "      <td>...</td>\n",
       "      <td>...</td>\n",
       "      <td>...</td>\n",
       "      <td>...</td>\n",
       "      <td>...</td>\n",
       "    </tr>\n",
       "    <tr>\n",
       "      <th>53935</th>\n",
       "      <td>0.72</td>\n",
       "      <td>Ideal</td>\n",
       "      <td>D</td>\n",
       "      <td>SI1</td>\n",
       "      <td>60.8</td>\n",
       "      <td>57.0</td>\n",
       "      <td>2757</td>\n",
       "      <td>5.75</td>\n",
       "      <td>5.76</td>\n",
       "      <td>3.50</td>\n",
       "      <td>3829.166667</td>\n",
       "    </tr>\n",
       "    <tr>\n",
       "      <th>53936</th>\n",
       "      <td>0.72</td>\n",
       "      <td>Good</td>\n",
       "      <td>D</td>\n",
       "      <td>SI1</td>\n",
       "      <td>63.1</td>\n",
       "      <td>55.0</td>\n",
       "      <td>2757</td>\n",
       "      <td>5.69</td>\n",
       "      <td>5.75</td>\n",
       "      <td>3.61</td>\n",
       "      <td>3829.166667</td>\n",
       "    </tr>\n",
       "    <tr>\n",
       "      <th>53937</th>\n",
       "      <td>0.70</td>\n",
       "      <td>Very Good</td>\n",
       "      <td>D</td>\n",
       "      <td>SI1</td>\n",
       "      <td>62.8</td>\n",
       "      <td>60.0</td>\n",
       "      <td>2757</td>\n",
       "      <td>5.66</td>\n",
       "      <td>5.68</td>\n",
       "      <td>3.56</td>\n",
       "      <td>3938.571429</td>\n",
       "    </tr>\n",
       "    <tr>\n",
       "      <th>53938</th>\n",
       "      <td>0.86</td>\n",
       "      <td>Premium</td>\n",
       "      <td>H</td>\n",
       "      <td>SI2</td>\n",
       "      <td>61.0</td>\n",
       "      <td>58.0</td>\n",
       "      <td>2757</td>\n",
       "      <td>6.15</td>\n",
       "      <td>6.12</td>\n",
       "      <td>3.74</td>\n",
       "      <td>3205.813953</td>\n",
       "    </tr>\n",
       "    <tr>\n",
       "      <th>53939</th>\n",
       "      <td>0.75</td>\n",
       "      <td>Ideal</td>\n",
       "      <td>D</td>\n",
       "      <td>SI2</td>\n",
       "      <td>62.2</td>\n",
       "      <td>55.0</td>\n",
       "      <td>2757</td>\n",
       "      <td>5.83</td>\n",
       "      <td>5.87</td>\n",
       "      <td>3.64</td>\n",
       "      <td>3676.000000</td>\n",
       "    </tr>\n",
       "  </tbody>\n",
       "</table>\n",
       "<p>53940 rows × 11 columns</p>\n",
       "</div>"
      ]
     },
     "execution_count": 32,
     "metadata": {},
     "output_type": "execute_result"
    }
   ],
   "execution_count": 32
  },
  {
   "metadata": {},
   "cell_type": "markdown",
   "source": [
    "## Other tips that will help you along the way\n",
    "\n",
    "### Use available resources\n",
    "You do not have to code from scratch or solve errors on your own. Use the AI tools available in DataSpell. Also a Google search can be a great resource if you are stuck. Feel free to cut, paste, and modify code you find online. Importantly, though, we need to make sure we understand what the code is doing and verify it is working as intended. Ultimately, any code you use from another source is your responsibilty. Be an auditor!\n",
    "\n",
    "### Clean, consistent, and readable code\n",
    "It is important to write clean, consistent, and readable code. This will make your code easier to understand and maintain. The AI tools and code editors available in DataSpell will help you with this. Here are a few tips to help you write clean code:\n",
    "\n",
    "1. Use consistent naming conventions for files, variables, and other objects (e.g., snake_case).\n",
    "2. Use comments to explain your code. Comments should explain what or why you are doing something, not how (the code should explain how).\n",
    "3. Use whitespace to make your code more readable (e.g., spaces between operators, blank lines between sections of code, tabs and spaces as indentation).\n",
    "4. Use meaningful and consistent variable names.\n",
    "\n",
    "In this course, we will generally follow these tips to write clean and readable code (though I won't always follow point 2 for instructional purposes). However, the point is for a knowledgeable human (or AI agent!) to be able to read and understand your code. For those of you more interested in this topic, [PEP8](https://peps.python.org/pep-0008/) is a common Python style guide.\n",
    "\n",
    "### Pulling function and package documentation\n",
    "While AI tools are a great resource for understanding code and packages. It is sometimes useful to pull documentation. This will help you understand what a function does, what arguments it takes, and what it returns. You can pull documentation by using the `help()` function. For example, to pull documentation for the `np.log` function, you would use the following code:"
   ],
   "id": "f0f914a8ccc9582d"
  },
  {
   "metadata": {
    "ExecuteTime": {
     "end_time": "2025-09-29T04:52:24.006383Z",
     "start_time": "2025-09-29T04:52:24.003456Z"
    }
   },
   "cell_type": "code",
   "source": "help(np.log)",
   "id": "671477482e1c60c4",
   "outputs": [
    {
     "name": "stdout",
     "output_type": "stream",
     "text": [
      "Help on ufunc in module numpy:\n",
      "\n",
      "log = <ufunc 'log'>\n",
      "    log(x, /, out=None, *, where=True, casting='same_kind', order='K', dtype=None, subok=True[, signature])\n",
      "\n",
      "    Natural logarithm, element-wise.\n",
      "\n",
      "    The natural logarithm `log` is the inverse of the exponential function,\n",
      "    so that `log(exp(x)) = x`. The natural logarithm is logarithm in base\n",
      "    `e`.\n",
      "\n",
      "    Parameters\n",
      "    ----------\n",
      "    x : array_like\n",
      "        Input value.\n",
      "    out : ndarray, None, or tuple of ndarray and None, optional\n",
      "        A location into which the result is stored. If provided, it must have\n",
      "        a shape that the inputs broadcast to. If not provided or None,\n",
      "        a freshly-allocated array is returned. A tuple (possible only as a\n",
      "        keyword argument) must have length equal to the number of outputs.\n",
      "    where : array_like, optional\n",
      "        This condition is broadcast over the input. At locations where the\n",
      "        condition is True, the `out` array will be set to the ufunc result.\n",
      "        Elsewhere, the `out` array will retain its original value.\n",
      "        Note that if an uninitialized `out` array is created via the default\n",
      "        ``out=None``, locations within it where the condition is False will\n",
      "        remain uninitialized.\n",
      "    **kwargs\n",
      "        For other keyword-only arguments, see the\n",
      "        :ref:`ufunc docs <ufuncs.kwargs>`.\n",
      "\n",
      "    Returns\n",
      "    -------\n",
      "    y : ndarray\n",
      "        The natural logarithm of `x`, element-wise.\n",
      "        This is a scalar if `x` is a scalar.\n",
      "\n",
      "    See Also\n",
      "    --------\n",
      "    log10, log2, log1p, emath.log\n",
      "\n",
      "    Notes\n",
      "    -----\n",
      "    Logarithm is a multivalued function: for each `x` there is an infinite\n",
      "    number of `z` such that `exp(z) = x`. The convention is to return the\n",
      "    `z` whose imaginary part lies in `(-pi, pi]`.\n",
      "\n",
      "    For real-valued input data types, `log` always returns real output. For\n",
      "    each value that cannot be expressed as a real number or infinity, it\n",
      "    yields ``nan`` and sets the `invalid` floating point error flag.\n",
      "\n",
      "    For complex-valued input, `log` is a complex analytical function that\n",
      "    has a branch cut `[-inf, 0]` and is continuous from above on it. `log`\n",
      "    handles the floating-point negative zero as an infinitesimal negative\n",
      "    number, conforming to the C99 standard.\n",
      "\n",
      "    In the cases where the input has a negative real part and a very small\n",
      "    negative complex part (approaching 0), the result is so close to `-pi`\n",
      "    that it evaluates to exactly `-pi`.\n",
      "\n",
      "    References\n",
      "    ----------\n",
      "    .. [1] M. Abramowitz and I.A. Stegun, \"Handbook of Mathematical Functions\",\n",
      "           10th printing, 1964, pp. 67.\n",
      "           https://personal.math.ubc.ca/~cbm/aands/page_67.htm\n",
      "    .. [2] Wikipedia, \"Logarithm\". https://en.wikipedia.org/wiki/Logarithm\n",
      "\n",
      "    Examples\n",
      "    --------\n",
      "    >>> import numpy as np\n",
      "    >>> np.log([1, np.e, np.e**2, 0])\n",
      "    array([  0.,   1.,   2., -inf])\n",
      "\n"
     ]
    }
   ],
   "execution_count": 33
  }
 ],
 "metadata": {
  "kernelspec": {
   "display_name": "Python 3",
   "language": "python",
   "name": "python3"
  },
  "language_info": {
   "codemirror_mode": {
    "name": "ipython",
    "version": 2
   },
   "file_extension": ".py",
   "mimetype": "text/x-python",
   "name": "python",
   "nbconvert_exporter": "python",
   "pygments_lexer": "ipython2",
   "version": "2.7.6"
  }
 },
 "nbformat": 4,
 "nbformat_minor": 5
}
