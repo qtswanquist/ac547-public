{
 "cells": [
  {
   "metadata": {},
   "cell_type": "markdown",
   "source": [
    "# Sales Exercise\n",
    "\n",
    "In this exercise, you will perform a simulated auditing task with data on invoices, customer orders, and shipments.\n",
    "\n",
    "## Overview and setting\n",
    "\n",
    "Imagine you are asked to work on a new audit client that distributes bath bombs and cowbells (my daughter’s favorite toys at the time I created this exercise). Your manager has provided you with 3 related datasets containing invoice, customer order, and shipment information. Your task is to explore the data and identify observations that require further testing.\n",
    "\n",
    "## Housekeeping"
   ],
   "id": "dd792d7fbdeb7d06"
  },
  {
   "metadata": {},
   "cell_type": "code",
   "source": [
    "import numpy as np\n",
    "import pandas as pd\n",
    "import seaborn as sns\n",
    "import matplotlib.pyplot as plt"
   ],
   "id": "3e0e63c8cd6febc5",
   "outputs": [],
   "execution_count": null
  },
  {
   "metadata": {},
   "cell_type": "markdown",
   "source": [
    "## Import datasets\n",
    "\n",
    "In the working folder, you will find three datasets: [invoices](invoices.csv), [customer orders](customer_orders.txt), and [shipping data](shipping_data.csv). A description of these datasets can be found in the [sales data sheet](sales_data_sheet.pdf). The datasets are in csv or txt format and can be read into Python using the `pd.read_csv()` function."
   ],
   "id": "862b08fe24612d01"
  },
  {
   "metadata": {},
   "cell_type": "code",
   "source": [
    "invoices =\n",
    "customer_orders =\n",
    "shipping_data ="
   ],
   "id": "b4fea395f0875ea5",
   "outputs": [],
   "execution_count": null
  },
  {
   "metadata": {},
   "cell_type": "markdown",
   "source": [
    "## Inspect and clean each dataset\n",
    "\n",
    "After reviewing the [sales data sheet](sales_data_sheet.pdf), inspect each dataset carefully. Think about your “strategy” for wrangling each dataset. Consider how each dataset needs to be cleaned, formatted, or reshaped.\n",
    "\n",
    "### Clean and process the `invoices` dataset:"
   ],
   "id": "b098bf4f498f845f"
  },
  {
   "metadata": {},
   "cell_type": "code",
   "source": "invoices.info()",
   "id": "83fd8b402bb71820",
   "outputs": [],
   "execution_count": null
  },
  {
   "metadata": {},
   "cell_type": "code",
   "source": "invoices.head()",
   "id": "ccb70c12a825e125",
   "outputs": [],
   "execution_count": null
  },
  {
   "metadata": {},
   "cell_type": "markdown",
   "source": "Notice there are 'duplicate' invoice numbers. This is because each invoice can contain multiple items (i.e., bath bombs and cowbells). We will need to pivot this data from long to wide format so that each invoice number is unique and cowbells and bath bombs are in separate columns.",
   "id": "e04dd80c695200ce"
  },
  {
   "metadata": {},
   "cell_type": "code",
   "source": [
    "invoices_clean =\n",
    "\n",
    "invoices_clean.head()"
   ],
   "id": "83ec0bc696fd0216",
   "outputs": [],
   "execution_count": null
  },
  {
   "metadata": {},
   "cell_type": "markdown",
   "source": "Everything looks pretty good. However, notice that the `invoice_date` is in string format. Let's convert it to a date format.",
   "id": "32e798fd4c1c5a78"
  },
  {
   "metadata": {},
   "cell_type": "code",
   "source": [
    "invoices_clean['invoice_date'] =\n",
    "\n",
    "invoices_clean.head()"
   ],
   "id": "4356030220b2adde",
   "outputs": [],
   "execution_count": null
  },
  {
   "metadata": {},
   "cell_type": "markdown",
   "source": "### Clean and process the `customer_orders` dataset:",
   "id": "d9d3f8910d9bd4ed"
  },
  {
   "metadata": {},
   "cell_type": "code",
   "source": "customer_orders.info()",
   "id": "406e6bb161be8fd9",
   "outputs": [],
   "execution_count": null
  },
  {
   "metadata": {},
   "cell_type": "code",
   "source": "customer_orders.head()",
   "id": "ae5603bddcb639",
   "outputs": [],
   "execution_count": null
  },
  {
   "metadata": {},
   "cell_type": "markdown",
   "source": "Everything looks pretty good here. However, notice that the `customer_order_date` is in string format. Let's convert it to a date format.",
   "id": "6c4a6b20d90ed8c0"
  },
  {
   "metadata": {},
   "cell_type": "code",
   "source": [
    "customer_orders_clean = customer_orders.copy()\n",
    "\n",
    "customer_orders_clean['customer_order_date'] =\n",
    "\n",
    "customer_orders_clean.info()"
   ],
   "id": "f3aef4b87b8061ce",
   "outputs": [],
   "execution_count": null
  },
  {
   "metadata": {},
   "cell_type": "markdown",
   "source": "### Clean and process the `shipping_data` dataset:",
   "id": "eb4f48ed8a1584a3"
  },
  {
   "metadata": {},
   "cell_type": "code",
   "source": "shipping_data.info()",
   "id": "7f7e687a0e75c29e",
   "outputs": [],
   "execution_count": null
  },
  {
   "metadata": {},
   "cell_type": "code",
   "source": "shipping_data.head()",
   "id": "25546a740d320fdf",
   "outputs": [],
   "execution_count": null
  },
  {
   "metadata": {},
   "cell_type": "markdown",
   "source": "This dataset needs a bit more work. Notice that the `customer_id` and `invoice_num` are combined in one column. We will need to split this into two separate columns. Also, the `shipping_date` and `delivery_date` are in string format. Let's convert these to date format.",
   "id": "92b1b9419f5e4a4e"
  },
  {
   "metadata": {},
   "cell_type": "code",
   "source": [
    "shipping_data_clean = shipping_data.copy()\n",
    "\n",
    "shipping_data_clean[['customer_id', 'invoice_num']] =\n",
    "\n",
    "shipping_data_clean['shipping_date'] =\n",
    "shipping_data_clean['delivery_date'] =\n",
    "\n",
    "shipping_data_clean.head()"
   ],
   "id": "a298971aef23170c",
   "outputs": [],
   "execution_count": null
  },
  {
   "metadata": {},
   "cell_type": "markdown",
   "source": "OK, we are very close, but notice that `invoice_num` is in string format. Let's convert it to numeric format.",
   "id": "a523fddcfdf81cc"
  },
  {
   "metadata": {},
   "cell_type": "code",
   "source": [
    "shipping_data_clean['invoice_num'] =\n",
    "\n",
    "shipping_data_clean.info()"
   ],
   "id": "6fe8b2cfde796636",
   "outputs": [],
   "execution_count": null
  },
  {
   "metadata": {},
   "cell_type": "markdown",
   "source": [
    "## Join and filter the sales datasets\n",
    "\n",
    "Use join functions to create a list of invoices that **did not** have an associated shipment (save in a new dataset called `non_shipped_invoices`):"
   ],
   "id": "10ec764d78dfa40f"
  },
  {
   "metadata": {},
   "cell_type": "code",
   "source": [
    "non_shipped_invoices =\n",
    "\n",
    "non_shipped_invoices.info()"
   ],
   "id": "be21e406cedbd597",
   "outputs": [],
   "execution_count": null
  },
  {
   "metadata": {},
   "cell_type": "markdown",
   "source": "Next, use join functions to combine all three datasets to form a new dataset called `complete_sales_data`. Make sure this dataset retains only observations that match across all three datasets:",
   "id": "d9426d96bdb4ba29"
  },
  {
   "metadata": {},
   "cell_type": "code",
   "source": [
    "# Inner join invoices_data_clean with customer_orders_data_clean on 'customer_order'\n",
    "complete_sales_data =\n",
    "\n",
    "# Inner join the result with shipping_data_clean on 'invoice_num'\n",
    "complete_sales_data =\n",
    "\n",
    "complete_sales_data.head()"
   ],
   "id": "577955b404785a08",
   "outputs": [],
   "execution_count": null
  },
  {
   "metadata": {},
   "cell_type": "markdown",
   "source": [
    "Notice that customer_id appears twice with different suffixes (i.e., _x and _y). This is because customer_id appears in both the invoices and shipping datasets.\n",
    "\n",
    "Using the dataset created above, can you isolate the invoices that may have been recorded in the wrong year? Hint: Look at the shipping dates and shipping terms. Save in a new dataset called `wrong_period_sales`:"
   ],
   "id": "54d97dcc9a5ba070"
  },
  {
   "metadata": {},
   "cell_type": "code",
   "source": [
    "wrong_period_sales =\n",
    "\n",
    "wrong_period_sales.info()"
   ],
   "id": "ed6fe2345fc76f99",
   "outputs": [],
   "execution_count": null
  },
  {
   "metadata": {},
   "cell_type": "code",
   "source": "wrong_period_sales.head()",
   "id": "d4c407850c49c523",
   "outputs": [],
   "execution_count": null
  },
  {
   "metadata": {},
   "cell_type": "markdown",
   "source": "Create a variable in complete_sales_data called `inv_month` that represents the month of the invoice date:",
   "id": "d27bac08e1057239"
  },
  {
   "metadata": {},
   "cell_type": "code",
   "source": "complete_sales_data['inv_month'] =",
   "id": "e4f7d4fe298f9ecd",
   "outputs": [],
   "execution_count": null
  },
  {
   "metadata": {},
   "cell_type": "markdown",
   "source": "Create a summary of the total value of all invoices (`invoice_amount`) for each month (`inv_month`) during 2024. Store in `sales_per_month`:",
   "id": "1f23d4b95ac2a3c8"
  },
  {
   "metadata": {},
   "cell_type": "code",
   "source": [
    "sales_per_month =\n",
    "\n",
    "sales_per_month.head(12)"
   ],
   "id": "a6797850115ae81c",
   "outputs": [],
   "execution_count": null
  },
  {
   "metadata": {},
   "cell_type": "markdown",
   "source": [
    "## Generate visualizations\n",
    "Use a line chart to visualize trends in monthly sales using `sales_per_month`. Use a line chart to visualize trends in monthly sales using `sales_per_month`:"
   ],
   "id": "917c481d05afc596"
  },
  {
   "metadata": {},
   "cell_type": "code",
   "source": [
    "# Create the line plot using Seaborn\n",
    "sns.relplot(\n",
    "    data=sales_per_month,\n",
    "    x='inv_month',\n",
    "    y='total_sales',\n",
    "    kind='line'\n",
    ")\n",
    "\n",
    "plt.ticklabel_format(style='plain', axis='y')\n",
    "\n",
    "plt.show()"
   ],
   "id": "62aac490d2d453dc",
   "outputs": [],
   "execution_count": null
  },
  {
   "metadata": {},
   "cell_type": "markdown",
   "source": "Use a scatterplot to visualize the relation between shipping weight and invoice amount - use techniques to avoid “overplotting”:",
   "id": "801f31a3adaa8a22"
  },
  {
   "metadata": {},
   "cell_type": "code",
   "source": [
    "sns.relplot(\n",
    "    data=complete_sales_data.sample(n=4000, random_state=42),\n",
    "    x='shipping_weight',\n",
    "    y='invoice_amount',\n",
    "    color='black',\n",
    "    alpha=0.25,\n",
    "    size=10,\n",
    "    kind='scatter'\n",
    ")\n",
    "\n",
    "plt.show()"
   ],
   "id": "af2f6ff6e85a98",
   "outputs": [],
   "execution_count": null
  }
 ],
 "metadata": {
  "kernelspec": {
   "display_name": "Python 3",
   "language": "python",
   "name": "python3"
  },
  "language_info": {
   "codemirror_mode": {
    "name": "ipython",
    "version": 2
   },
   "file_extension": ".py",
   "mimetype": "text/x-python",
   "name": "python",
   "nbconvert_exporter": "python",
   "pygments_lexer": "ipython2",
   "version": "2.7.6"
  }
 },
 "nbformat": 4,
 "nbformat_minor": 5
}
