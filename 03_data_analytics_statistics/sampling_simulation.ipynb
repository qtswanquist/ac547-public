{
 "cells": [
  {
   "metadata": {},
   "cell_type": "markdown",
   "source": [
    "# Sampling Simulation\n",
    "In class, we covered the central limit theorem and the law of large numbers. This exercise will demonstrate these concepts using a sample of coin flips from a fair coin. Next, we will simulate sampling from the diamonds dataset to illustrate how sample means converge to the population mean as sample size increases.\n",
    "\n",
    "Note that what we will cover here follows closely with the 'hacker stats' module and introduction to statistics in DataCamp.\n",
    "\n",
    "## General housekeeping items\n",
    "Let’s begin by importing the necessary libraries."
   ],
   "id": "58ea138123923bfb"
  },
  {
   "metadata": {
    "ExecuteTime": {
     "end_time": "2025-09-17T17:32:14.540684Z",
     "start_time": "2025-09-17T17:32:14.537565Z"
    }
   },
   "cell_type": "code",
   "source": [
    "import numpy as np\n",
    "import pandas as pd\n",
    "import seaborn as sns\n",
    "import matplotlib.pyplot as plt"
   ],
   "id": "e66340d217f0d48a",
   "outputs": [],
   "execution_count": 1
  },
  {
   "metadata": {},
   "cell_type": "markdown",
   "source": [
    "## Simulate and plot data on coin flips\n",
    "Imagine that 1,000 students on campus are each given a fair coin. Each student is asked to flip the coin 10 times and record the number of heads and tails (0=tails and 1=heads). In expectation, half of the flips should be tails and half of the flips should be heads. Coin flips can be thought of as following a 'random walk' where each flip is independent of the previous flips. In other words, the outcome of one flip does not affect the outcome of the next flip. This means that each flip has a 50% chance of being heads and a 50% chance of being tails, regardless of the outcomes of previous flips (if you have ever thought that a coin is \"due\" for heads or tails, you are falling victim to the gambler's fallacy!).\n",
    "\n",
    "We are going to simulate a scenario where many people flip a coin several times. Let’s store the number of coin flips per person in n_tries and the number of people flipping coins in n_samples."
   ],
   "id": "ac725784c0e5532a"
  },
  {
   "metadata": {
    "ExecuteTime": {
     "end_time": "2025-09-17T17:32:14.553293Z",
     "start_time": "2025-09-17T17:32:14.549866Z"
    }
   },
   "cell_type": "code",
   "source": [
    "n_tries = 10\n",
    "n_samples = 1000"
   ],
   "id": "5a8f3a96675cf835",
   "outputs": [],
   "execution_count": 2
  },
  {
   "metadata": {},
   "cell_type": "markdown",
   "source": "Next, we will build a simulation using a “for loop” where each person in n_samples flips a coin n_tries times. Each flip represents a random draw from values 0 or 1 (where 0 represents tails and 1 represents heads). The results of each sample are stored in a list called final_heads.",
   "id": "19b10fb51b7523d"
  },
  {
   "metadata": {
    "ExecuteTime": {
     "end_time": "2025-09-17T17:32:14.595868Z",
     "start_time": "2025-09-17T17:32:14.563776Z"
    }
   },
   "cell_type": "code",
   "source": [
    "np.random.seed(42) # Set a random seed for reproducibility\n",
    "\n",
    "final_heads = [] # Initialize an empty list to store the number of heads for each sample\n",
    "\n",
    "for _ in range(n_samples): # Loop through each sample\n",
    "    heads = [0] # Start with zero heads for each sample\n",
    "    for _ in range(n_tries): # Loop through each flip\n",
    "        coin = np.random.randint(0, 2) # Randomly select a coin flip outcome (0 or 1)\n",
    "        heads.append(heads[-1] + coin) # Add the result of the flip to the heads list\n",
    "    final_heads.append(heads[-1]) # Append the total number of heads for this sample to final_heads\n",
    "\n",
    "final_heads = pd.DataFrame(final_heads, columns=['heads']) # Convert final_heads to a DataFrame for easier handling\n",
    "\n",
    "final_heads = final_heads.groupby('heads').size().reset_index(name='count') # Aggregate the data so that we have the count of heads for each sample\n",
    "\n",
    "print(final_heads)"
   ],
   "id": "6f77f371f8882ccc",
   "outputs": [
    {
     "name": "stdout",
     "output_type": "stream",
     "text": [
      "    heads  count\n",
      "0       0      1\n",
      "1       1      4\n",
      "2       2     50\n",
      "3       3    121\n",
      "4       4    203\n",
      "5       5    256\n",
      "6       6    198\n",
      "7       7    114\n",
      "8       8     37\n",
      "9       9     14\n",
      "10     10      2\n"
     ]
    }
   ],
   "execution_count": 3
  },
  {
   "metadata": {},
   "cell_type": "markdown",
   "source": "Inspect the output from the loop above. For each possible number of heads (from 0 to n_tries), we have a count of how many samples had that number of heads. Next, let's plot the distribution of the number of heads using a bar plot.",
   "id": "770afcd7094d734b"
  },
  {
   "metadata": {
    "ExecuteTime": {
     "end_time": "2025-09-17T17:32:14.901108Z",
     "start_time": "2025-09-17T17:32:14.610907Z"
    }
   },
   "cell_type": "code",
   "source": [
    "sns.barplot(x='heads', y='count', data=final_heads)\n",
    "plt.xlabel(f'Heads from {n_tries} Coin Flips')\n",
    "plt.ylabel('Count')\n",
    "plt.title('Distribution of Means')\n",
    "plt.figtext(0.5, -0.05,\n",
    "            f\"Note: Tails = 0 and Heads = 1. Each sample consists of {n_tries} coin flips. There are {n_samples} samples in total.\",\n",
    "            wrap=True, horizontalalignment='center', fontsize=10)\n",
    "plt.show()\n"
   ],
   "id": "88fd6cc0f87c78b7",
   "outputs": [
    {
     "data": {
      "text/plain": [
       "<Figure size 640x480 with 1 Axes>"
      ],
      "image/png": "[encoded data removed]"
     },
     "metadata": {},
     "output_type": "display_data"
    }
   ],
   "execution_count": 4
  },
  {
   "metadata": {},
   "cell_type": "markdown",
   "source": [
    "Notice that the most common averages fall around 5, but many (most!) are not exactly 5. In fact, some coin flippers had averages far away from 5 (e.g., 2 tails and 8 heads in 10 flips). However, as we get farther away from the “expected mean” of 5, the instances become more rare… more precisely, the distribution of sample averages follows a normal distribution. This is the central limit theorem at work!\n",
    "\n",
    "### Exercise 1\n",
    "Explore the law of large numbers by changing the value of n_tries and rerun the simulation. What happens to the distribution (pay particular attention to the values on the x-axis)? Why?\n",
    "\n",
    "Change the values in n_samples and rerun the simulation. What happens to the distribution? Why?\n",
    "\n",
    "### Exercise 2\n",
    "Imagine that you were one of the coin flippers who flipped 9 heads and 1 tail. Suppose this is all the information that you were allowed to collect on your coin. What might you conclude about the “fairness” of your coin?\n",
    "\n",
    "### Exercise 3\n",
    "Use the AI assistant of your choice to write Python code that simulates 100 individuals, each rolling two six-sided dice 10 times. For each roll, record the sum of the two dice, then compute each individual’s average across their 10 rolls. Plot the distribution of these 100 averages using a histogram. Make sure to write the code such that changing the numer of individuals and rolls is simple. Next, repeat the simulation with 100 rolls per individual instead of 10—what changes do you observe in the histogram? Then increase the number of individuals to 1,000—how does the distribution change? Why?"
   ],
   "id": "d2c8552654c0c1b1"
  },
  {
   "metadata": {
    "ExecuteTime": {
     "end_time": "2025-09-17T17:32:14.909312Z",
     "start_time": "2025-09-17T17:32:14.906708Z"
    }
   },
   "cell_type": "code",
   "source": "",
   "id": "80e979aa00ab67f5",
   "outputs": [],
   "execution_count": null
  },
  {
   "metadata": {},
   "cell_type": "markdown",
   "source": [
    "## Simulate sampling from the diamonds dataset\n",
    "\n",
    "The example above may seem a little abstract. Let’s see explore these principles in action using the diamonds dataset. Here, let’s imagine that 1,000 auditors each take an independent sample from the diamonds dataset. Each auditor takes a sample of 30 diamonds and is asked to determine the average carat weight.\n",
    "\n",
    "As above, let’s store our number of samples, sample size, and other information in objects (so that we can make easy changes later)."
   ],
   "id": "9579ac00a9348524"
  },
  {
   "metadata": {
    "ExecuteTime": {
     "end_time": "2025-09-17T17:32:14.934847Z",
     "start_time": "2025-09-17T17:32:14.930213Z"
    }
   },
   "cell_type": "code",
   "source": [
    "n_samples = 1000\n",
    "sample_size = 30\n",
    "sample_variable = \"carat\""
   ],
   "id": "ca90080711fbb429",
   "outputs": [],
   "execution_count": 5
  },
  {
   "metadata": {},
   "cell_type": "markdown",
   "source": "Next, let’s take a look at summary statistics and the distribution of carat weight.",
   "id": "76bf695b90c46c2f"
  },
  {
   "metadata": {
    "ExecuteTime": {
     "end_time": "2025-09-17T17:32:15.020011Z",
     "start_time": "2025-09-17T17:32:14.945506Z"
    }
   },
   "cell_type": "code",
   "source": [
    "diamonds = sns.load_dataset('diamonds') # Load diamonds dataset directly from seaborn - This is the original source of the data\n",
    "# diamonds = pd.read_pickle('diamonds.pkl') # Import the diamonds dataset from a pickle file - preferred method from local file\n",
    "\n",
    "# Print summary statistics for the 'carat' variable\n",
    "print(diamonds[[sample_variable]].describe())"
   ],
   "id": "aa753d8f28e663c3",
   "outputs": [
    {
     "name": "stdout",
     "output_type": "stream",
     "text": [
      "              carat\n",
      "count  53940.000000\n",
      "mean       0.797940\n",
      "std        0.474011\n",
      "min        0.200000\n",
      "25%        0.400000\n",
      "50%        0.700000\n",
      "75%        1.040000\n",
      "max        5.010000\n"
     ]
    }
   ],
   "execution_count": 6
  },
  {
   "metadata": {},
   "cell_type": "markdown",
   "source": "Next, let's visualize this distribution with a histogram.",
   "id": "80c8dd87218f7f25"
  },
  {
   "metadata": {
    "ExecuteTime": {
     "end_time": "2025-09-17T17:32:15.187800Z",
     "start_time": "2025-09-17T17:32:15.028101Z"
    }
   },
   "cell_type": "code",
   "source": [
    "# Plot the distribution of carat weights\n",
    "sns.histplot(data=diamonds, x=sample_variable, bins=50)\n",
    "plt.title(f\"Distribution of {sample_variable}\")\n",
    "plt.xlabel(sample_variable)\n",
    "plt.ylabel(\"Frequency\")\n",
    "plt.show()"
   ],
   "id": "403d409d8d450408",
   "outputs": [
    {
     "data": {
      "text/plain": [
       "<Figure size 640x480 with 1 Axes>"
      ],
      "image/png": "[encoded data removed]"
     },
     "metadata": {},
     "output_type": "display_data"
    }
   ],
   "execution_count": 7
  },
  {
   "metadata": {},
   "cell_type": "markdown",
   "source": [
    "Notice that the distribution of carat weight is positively skewed and has several breakpoints.\n",
    "\n",
    "Let’s take our own sample of the diamonds dataset."
   ],
   "id": "6b727929fb142e9"
  },
  {
   "metadata": {
    "ExecuteTime": {
     "end_time": "2025-09-17T17:32:15.214179Z",
     "start_time": "2025-09-17T17:32:15.205294Z"
    }
   },
   "cell_type": "code",
   "source": [
    "example_sample = diamonds.sample(n=30, replace=False, random_state=42)\n",
    "\n",
    "# Display summary statistics of the sample\n",
    "print(example_sample[[sample_variable]].describe())"
   ],
   "id": "b21cfcd879a295cd",
   "outputs": [
    {
     "name": "stdout",
     "output_type": "stream",
     "text": [
      "           carat\n",
      "count  30.000000\n",
      "mean    0.799333\n",
      "std     0.550661\n",
      "min     0.230000\n",
      "25%     0.400000\n",
      "50%     0.555000\n",
      "75%     1.030000\n",
      "max     2.070000\n"
     ]
    }
   ],
   "execution_count": 8
  },
  {
   "metadata": {},
   "cell_type": "markdown",
   "source": [
    "Take a look at your sample above. Change the options in sample() and see what changes.\n",
    "\n",
    "Following the coin flips example, let’s simulate taking independent samples, determining the sample average, and plotting the results."
   ],
   "id": "b527156442105831"
  },
  {
   "metadata": {
    "ExecuteTime": {
     "end_time": "2025-09-17T17:32:16.574974Z",
     "start_time": "2025-09-17T17:32:15.229926Z"
    }
   },
   "cell_type": "code",
   "source": [
    "np.random.seed(42)\n",
    "\n",
    "samples_list = []\n",
    "\n",
    "for s in range(n_samples):\n",
    "    sample_df = diamonds.sample(n=sample_size, replace=False)[[sample_variable]].copy() # Take a sample of diamonds\n",
    "    sample_df['sample'] = s # Add a sample identifier\n",
    "    samples_list.append(sample_df) # Append the sample DataFrame to the list\n",
    "\n",
    "diamonds_samples = pd.concat(samples_list, ignore_index=True) # Combine all samples into a single DataFrame\n",
    "\n",
    "diamond_averages = diamonds_samples.groupby('sample').agg(\n",
    "    average_value=(sample_variable, 'mean')\n",
    ").reset_index() # Calculate the average value for each sample"
   ],
   "id": "95f4f971ea3edc16",
   "outputs": [],
   "execution_count": 9
  },
  {
   "metadata": {
    "ExecuteTime": {
     "end_time": "2025-09-17T17:32:16.785732Z",
     "start_time": "2025-09-17T17:32:16.665061Z"
    }
   },
   "cell_type": "code",
   "source": [
    "sns.histplot(diamond_averages['average_value'], bins=30, color=\"blue\", edgecolor=\"black\", alpha=0.7)\n",
    "plt.title(f\"Distribution of Sample Means for {sample_variable}\")\n",
    "plt.xlabel(\"Sample Mean of Variable\")\n",
    "plt.ylabel(\"Frequency\")\n",
    "plt.show()"
   ],
   "id": "dbc93dc607541a8d",
   "outputs": [
    {
     "data": {
      "text/plain": [
       "<Figure size 640x480 with 1 Axes>"
      ],
      "image/png": "[encoded data removed]"
     },
     "metadata": {},
     "output_type": "display_data"
    }
   ],
   "execution_count": 10
  },
  {
   "metadata": {},
   "cell_type": "markdown",
   "source": [
    "### Exercise 4\n",
    "What do you notice about the difference between the distribution of carat weight in the entire population versus the distribution of the averages from the samples? What forces are at work here?\n",
    "\n",
    "Tinker with the inputs to the simulation (e.g., n_samples, sample_size, and sample_variable). What happens to the distributions? Why?"
   ],
   "id": "3a6ac6df1b75fb7d"
  }
 ],
 "metadata": {
  "kernelspec": {
   "display_name": "Python 3",
   "language": "python",
   "name": "python3"
  },
  "language_info": {
   "codemirror_mode": {
    "name": "ipython",
    "version": 2
   },
   "file_extension": ".py",
   "mimetype": "text/x-python",
   "name": "python",
   "nbconvert_exporter": "python",
   "pygments_lexer": "ipython2",
   "version": "2.7.6"
  }
 },
 "nbformat": 4,
 "nbformat_minor": 5
}
