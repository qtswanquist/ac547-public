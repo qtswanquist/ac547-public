{
 "cells": [
  {
   "cell_type": "markdown",
   "id": "4eeb0f65-5c9e-4ae1-8c4f-8f12ed1e36f9",
   "metadata": {},
   "source": [
    "# Set up and run your first Python code\n",
    "\n",
    "## Introduction\n",
    "This tutorial is intended to get you started in the course. First, you need to complete the instructions [here](README.md) to make sure you have the necessary software installed. Once you have completed the installation, you can proceed with the instructions below.\n",
    "\n",
    "## Starting a new project from the course GitHub repository\n",
    "Open DataSpell and go to File > Project From Version Control. Make sure version control is set to Git and paste the URL of the course repository (https://github.com/qtswanquist/ac547-public). **Make sure to select the option** **shallow clone with a history of 1 commit**. Select Clone. If this is your first time, you may be prompted to install git. Follow any prompts to clone the repository to your local machine.\n",
    "\n",
    "## Setting up a Python interpreter using a virtual environment\n",
    "Begin by setting up a Python environment for the course. If you are reading this in DataSpell, you may notice a prompt above to set up an interpreter. Follow that prompt or go to File > Settings > Project > Python Interpreter. Select add Python interpreter and select from local. You should see the version of Python that you installed. Check \"make available to all projects\" and click OK.\n",
    "Note, it may take some time for background processes to update the interpreter. You can find more details on setting up a Python interpreter in DataSpell [here](https://www.jetbrains.com/help/dataspell/creating-virtual-environment.html).\n",
    "\n",
    "## Import packages\n",
    "Once you have set up your interpreter (and allowed any background updates to complete). You are ready to install packages. Look at the code chunk below. You will notice that we are importing several packages... if this is your first time using Python, you may not have these packages installed. All of the packages for this course are listed in [requirements](../requirements.txt) file in the main (root) folder of this repository. You might find a warning at the top of the screen prompting you to \"install requirements.\" This is my preferred way for you to install packages for this course so that we are all working with the same versions. However, if you hover your cursor over the package names (e.g., `pandas`) DataSpell will prompt you to \"install all packages\". If you are not prompted, you can install the packages by going to Settings > Project > Python Interpreter and clicking the + button to add packages. Search for the package name (e.g., `pandas`), select the version listed in [requirements](../requirements.txt), and click install package. You will need to do this for each package listed below.\n",
    "\n",
    "After you have installed the necessary packages (watch the progress status at the bottom of DataSpell), you can import them by \"running\" the code below. Note that when we import packages we frequently assign them an abbreviation to make referencing easier (e.g., import `pandas` **as pd**). This is a common convention and we will use it throughout the course. To run the chunk of code below, place your cursor in the cell and press **Shift + Enter**. Alternatively, you can click the green \"play\" (▶️) button in the top left corner of the cell. You can also run all cells in the notebook by going to Run > Run All."
   ]
  },
  {
   "cell_type": "code",
   "id": "7ae4cf15-d7c2-4c2a-835e-0cfa6b43e7d1",
   "metadata": {
    "ExecuteTime": {
     "end_time": "2025-09-29T04:57:27.340802Z",
     "start_time": "2025-09-29T04:57:27.338717Z"
    }
   },
   "source": [
    "import pandas as pd # Import pandas for data manipulation\n",
    "import matplotlib.pyplot as plt # Import matplotlib for plotting\n",
    "import seaborn as sns # Import seaborn for statistical data visualization\n",
    "import statsmodels.formula.api as smf # Import statsmodels for statistical modeling"
   ],
   "outputs": [],
   "execution_count": 8
  },
  {
   "cell_type": "markdown",
   "id": "4c95fae5-cc5d-4f16-978f-61e2efb82e9b",
   "metadata": {},
   "source": [
    "## Data analytics exercise\n",
    "\n",
    "Next, you will complete a short data analytics exercise to make sure you are up and running. Try to follow along, but don’t worry if you get stuck or don’t understand. We will do a deeper dive into the topics later in the course. If you can get the code below to run, you are good to go for the course!\n",
    "\n",
    "Let's begin by loading an example dataset from the Seaborn library called **anscombe's quartet**. This dataset is a classic example used to illustrate the importance of visualizing data before performing statistical analysis. You can also load datasets directly from Seaborn using the `sns.load_dataset` function. Note that if this doesn't work, we will use the `pd.read` functions to load the dataset from a local file which is included in this repo."
   ]
  },
  {
   "metadata": {
    "ExecuteTime": {
     "end_time": "2025-09-29T04:57:27.369628Z",
     "start_time": "2025-09-29T04:57:27.363153Z"
    }
   },
   "cell_type": "code",
   "source": [
    "ansc_quar = sns.load_dataset('anscombe')  # Load Anscombe's dataset directly from seaborn - This is the original source of the data\n",
    "# ansc_quar = pd.read_pickle('anscombe.pkl') # Load Anscombe's dataset from a local pickle file\n",
    "\n",
    "ansc_quar.sample(10)  # Display a random sample of 10 rows from the dataset"
   ],
   "id": "7bf5711f60497e69",
   "outputs": [
    {
     "data": {
      "text/plain": [
       "   dataset     x      y\n",
       "40      IV  19.0  12.50\n",
       "39      IV   8.0   5.25\n",
       "24     III  13.0  12.74\n",
       "3        I   9.0   8.81\n",
       "11      II  10.0   9.14\n",
       "33      IV   8.0   6.58\n",
       "34      IV   8.0   5.76\n",
       "8        I  12.0  10.84\n",
       "42      IV   8.0   7.91\n",
       "5        I  14.0   9.96"
      ],
      "text/html": [
       "<div>\n",
       "<style scoped>\n",
       "    .dataframe tbody tr th:only-of-type {\n",
       "        vertical-align: middle;\n",
       "    }\n",
       "\n",
       "    .dataframe tbody tr th {\n",
       "        vertical-align: top;\n",
       "    }\n",
       "\n",
       "    .dataframe thead th {\n",
       "        text-align: right;\n",
       "    }\n",
       "</style>\n",
       "<table border=\"1\" class=\"dataframe\">\n",
       "  <thead>\n",
       "    <tr style=\"text-align: right;\">\n",
       "      <th></th>\n",
       "      <th>dataset</th>\n",
       "      <th>x</th>\n",
       "      <th>y</th>\n",
       "    </tr>\n",
       "  </thead>\n",
       "  <tbody>\n",
       "    <tr>\n",
       "      <th>40</th>\n",
       "      <td>IV</td>\n",
       "      <td>19.0</td>\n",
       "      <td>12.50</td>\n",
       "    </tr>\n",
       "    <tr>\n",
       "      <th>39</th>\n",
       "      <td>IV</td>\n",
       "      <td>8.0</td>\n",
       "      <td>5.25</td>\n",
       "    </tr>\n",
       "    <tr>\n",
       "      <th>24</th>\n",
       "      <td>III</td>\n",
       "      <td>13.0</td>\n",
       "      <td>12.74</td>\n",
       "    </tr>\n",
       "    <tr>\n",
       "      <th>3</th>\n",
       "      <td>I</td>\n",
       "      <td>9.0</td>\n",
       "      <td>8.81</td>\n",
       "    </tr>\n",
       "    <tr>\n",
       "      <th>11</th>\n",
       "      <td>II</td>\n",
       "      <td>10.0</td>\n",
       "      <td>9.14</td>\n",
       "    </tr>\n",
       "    <tr>\n",
       "      <th>33</th>\n",
       "      <td>IV</td>\n",
       "      <td>8.0</td>\n",
       "      <td>6.58</td>\n",
       "    </tr>\n",
       "    <tr>\n",
       "      <th>34</th>\n",
       "      <td>IV</td>\n",
       "      <td>8.0</td>\n",
       "      <td>5.76</td>\n",
       "    </tr>\n",
       "    <tr>\n",
       "      <th>8</th>\n",
       "      <td>I</td>\n",
       "      <td>12.0</td>\n",
       "      <td>10.84</td>\n",
       "    </tr>\n",
       "    <tr>\n",
       "      <th>42</th>\n",
       "      <td>IV</td>\n",
       "      <td>8.0</td>\n",
       "      <td>7.91</td>\n",
       "    </tr>\n",
       "    <tr>\n",
       "      <th>5</th>\n",
       "      <td>I</td>\n",
       "      <td>14.0</td>\n",
       "      <td>9.96</td>\n",
       "    </tr>\n",
       "  </tbody>\n",
       "</table>\n",
       "</div>"
      ]
     },
     "execution_count": 9,
     "metadata": {},
     "output_type": "execute_result"
    }
   ],
   "execution_count": 9
  },
  {
   "metadata": {},
   "cell_type": "markdown",
   "source": "Take a look at the sample from the dataset above. Notice that it contains four different datasets (i.e., **I**, **II**, **III**, and **IV**) with two variables each (i.e., `x` and `y`). Each dataset has a different relation between **x** and **y**. The goal of this exercise is to visualize the data, perform a regression analysis, and output the predicted values and residuals. Let's do some data wrangling to select only the first dataset (i.e., **I**) and keep only the `x` and `y` variables.",
   "id": "fcbe40497727221a"
  },
  {
   "metadata": {
    "ExecuteTime": {
     "end_time": "2025-09-29T04:57:27.883417Z",
     "start_time": "2025-09-29T04:57:27.876239Z"
    }
   },
   "cell_type": "code",
   "source": [
    "ansc_quar_i = ansc_quar[ansc_quar['dataset'] == 'I']  # Select only dataset I\n",
    "ansc_quar_i = ansc_quar_i[['x', 'y']]  # Select only x and y columns\n",
    "ansc_quar_i # Display the filtered dataset"
   ],
   "id": "27d0727d56c6b413",
   "outputs": [
    {
     "data": {
      "text/plain": [
       "       x      y\n",
       "0   10.0   8.04\n",
       "1    8.0   6.95\n",
       "2   13.0   7.58\n",
       "3    9.0   8.81\n",
       "4   11.0   8.33\n",
       "5   14.0   9.96\n",
       "6    6.0   7.24\n",
       "7    4.0   4.26\n",
       "8   12.0  10.84\n",
       "9    7.0   4.82\n",
       "10   5.0   5.68"
      ],
      "text/html": [
       "<div>\n",
       "<style scoped>\n",
       "    .dataframe tbody tr th:only-of-type {\n",
       "        vertical-align: middle;\n",
       "    }\n",
       "\n",
       "    .dataframe tbody tr th {\n",
       "        vertical-align: top;\n",
       "    }\n",
       "\n",
       "    .dataframe thead th {\n",
       "        text-align: right;\n",
       "    }\n",
       "</style>\n",
       "<table border=\"1\" class=\"dataframe\">\n",
       "  <thead>\n",
       "    <tr style=\"text-align: right;\">\n",
       "      <th></th>\n",
       "      <th>x</th>\n",
       "      <th>y</th>\n",
       "    </tr>\n",
       "  </thead>\n",
       "  <tbody>\n",
       "    <tr>\n",
       "      <th>0</th>\n",
       "      <td>10.0</td>\n",
       "      <td>8.04</td>\n",
       "    </tr>\n",
       "    <tr>\n",
       "      <th>1</th>\n",
       "      <td>8.0</td>\n",
       "      <td>6.95</td>\n",
       "    </tr>\n",
       "    <tr>\n",
       "      <th>2</th>\n",
       "      <td>13.0</td>\n",
       "      <td>7.58</td>\n",
       "    </tr>\n",
       "    <tr>\n",
       "      <th>3</th>\n",
       "      <td>9.0</td>\n",
       "      <td>8.81</td>\n",
       "    </tr>\n",
       "    <tr>\n",
       "      <th>4</th>\n",
       "      <td>11.0</td>\n",
       "      <td>8.33</td>\n",
       "    </tr>\n",
       "    <tr>\n",
       "      <th>5</th>\n",
       "      <td>14.0</td>\n",
       "      <td>9.96</td>\n",
       "    </tr>\n",
       "    <tr>\n",
       "      <th>6</th>\n",
       "      <td>6.0</td>\n",
       "      <td>7.24</td>\n",
       "    </tr>\n",
       "    <tr>\n",
       "      <th>7</th>\n",
       "      <td>4.0</td>\n",
       "      <td>4.26</td>\n",
       "    </tr>\n",
       "    <tr>\n",
       "      <th>8</th>\n",
       "      <td>12.0</td>\n",
       "      <td>10.84</td>\n",
       "    </tr>\n",
       "    <tr>\n",
       "      <th>9</th>\n",
       "      <td>7.0</td>\n",
       "      <td>4.82</td>\n",
       "    </tr>\n",
       "    <tr>\n",
       "      <th>10</th>\n",
       "      <td>5.0</td>\n",
       "      <td>5.68</td>\n",
       "    </tr>\n",
       "  </tbody>\n",
       "</table>\n",
       "</div>"
      ]
     },
     "execution_count": 10,
     "metadata": {},
     "output_type": "execute_result"
    }
   ],
   "execution_count": 10
  },
  {
   "metadata": {},
   "cell_type": "markdown",
   "source": [
    "## Visualizing the data\n",
    "\n",
    "Take another look at the dataset above. Notice that we have two separate variables (i.e., `x` and `y`) that contain a list of numbers. To visualize, let's create a scatter plot of **y** on **x** including a regression line. Again, notice that we use **plt.** and **sns.** to refer to matplotlib and seaborn imported above."
   ],
   "id": "e8c0912868a714c3"
  },
  {
   "metadata": {
    "ExecuteTime": {
     "end_time": "2025-09-29T04:57:28.997903Z",
     "start_time": "2025-09-29T04:57:28.913644Z"
    }
   },
   "cell_type": "code",
   "source": [
    "sns.regplot(data=ansc_quar_i,\n",
    "            x='x',\n",
    "            y='y',\n",
    "            ci=None,\n",
    "            line_kws={'color': 'red'}\n",
    "            ) # Create a scatter plot with a regression line\n",
    "\n",
    "plt.title('Scatter Plot with Regression Line') # Add a title to the plot\n",
    "\n",
    "plt.show() # Display the plot"
   ],
   "id": "8b98b3a8-5c0a-4de1-9f4d-0adac9f50a8b",
   "outputs": [
    {
     "data": {
      "text/plain": [
       "<Figure size 640x480 with 1 Axes>"
      ],
      "image/png": "[encoded data removed]"
     },
     "metadata": {},
     "output_type": "display_data",
     "jetTransient": {
      "display_id": null
     }
    }
   ],
   "execution_count": 11
  },
  {
   "metadata": {},
   "cell_type": "markdown",
   "source": [
    "## Regression\n",
    "\n",
    "Next, we will perform a simple linear regression to predict **y** using **x**. In regression parlance, we call this “a regression of **y** on **x**.” The output and warning below won't make sense to you right now, but don't worry. We will learn more about this later in the course."
   ],
   "id": "c86e3a78-1c8f-4b69-8b7f-f78b0893d9e5"
  },
  {
   "metadata": {
    "ExecuteTime": {
     "end_time": "2025-09-29T04:57:29.592356Z",
     "start_time": "2025-09-29T04:57:29.578713Z"
    }
   },
   "cell_type": "code",
   "source": [
    "model = smf.ols('y ~ x', data=ansc_quar_i).fit() # Fit a linear regression model using statsmodels\n",
    "print(model.summary()) # Display the summary of the regression model"
   ],
   "id": "32c60a7652b3b0f6",
   "outputs": [
    {
     "name": "stdout",
     "output_type": "stream",
     "text": [
      "                            OLS Regression Results                            \n",
      "==============================================================================\n",
      "Dep. Variable:                      y   R-squared:                       0.667\n",
      "Model:                            OLS   Adj. R-squared:                  0.629\n",
      "Method:                 Least Squares   F-statistic:                     17.99\n",
      "Date:                Sun, 28 Sep 2025   Prob (F-statistic):            0.00217\n",
      "Time:                        23:57:29   Log-Likelihood:                -16.841\n",
      "No. Observations:                  11   AIC:                             37.68\n",
      "Df Residuals:                       9   BIC:                             38.48\n",
      "Df Model:                           1                                         \n",
      "Covariance Type:            nonrobust                                         \n",
      "==============================================================================\n",
      "                 coef    std err          t      P>|t|      [0.025      0.975]\n",
      "------------------------------------------------------------------------------\n",
      "Intercept      3.0001      1.125      2.667      0.026       0.456       5.544\n",
      "x              0.5001      0.118      4.241      0.002       0.233       0.767\n",
      "==============================================================================\n",
      "Omnibus:                        0.082   Durbin-Watson:                   3.212\n",
      "Prob(Omnibus):                  0.960   Jarque-Bera (JB):                0.289\n",
      "Skew:                          -0.122   Prob(JB):                        0.865\n",
      "Kurtosis:                       2.244   Cond. No.                         29.1\n",
      "==============================================================================\n",
      "\n",
      "Notes:\n",
      "[1] Standard Errors assume that the covariance matrix of the errors is correctly specified.\n"
     ]
    }
   ],
   "execution_count": 12
  },
  {
   "cell_type": "markdown",
   "id": "5f2b1c29-85a3-4da3-82d9-8d36a80e5d4c",
   "metadata": {},
   "source": [
    "## Output predictions and residuals\n",
    "\n",
    "Finally, we output the predicted (fitted) values and the residuals for each observation."
   ]
  },
  {
   "cell_type": "code",
   "id": "b53a9c25-9b75-4d7a-9b42-142ca4f1a7d3",
   "metadata": {
    "ExecuteTime": {
     "end_time": "2025-09-29T04:57:30.200570Z",
     "start_time": "2025-09-29T04:57:30.193364Z"
    }
   },
   "source": [
    "ansc_quar_i['fitted'] = model.fittedvalues # Add fitted values to the dataframe\n",
    "ansc_quar_i['resid'] = model.resid # Add residuals to the dataframe\n",
    "ansc_quar_i # Display the updated dataframe"
   ],
   "outputs": [
    {
     "data": {
      "text/plain": [
       "       x      y     fitted     resid\n",
       "0   10.0   8.04   8.001000  0.039000\n",
       "1    8.0   6.95   7.000818 -0.050818\n",
       "2   13.0   7.58   9.501273 -1.921273\n",
       "3    9.0   8.81   7.500909  1.309091\n",
       "4   11.0   8.33   8.501091 -0.171091\n",
       "5   14.0   9.96  10.001364 -0.041364\n",
       "6    6.0   7.24   6.000636  1.239364\n",
       "7    4.0   4.26   5.000455 -0.740455\n",
       "8   12.0  10.84   9.001182  1.838818\n",
       "9    7.0   4.82   6.500727 -1.680727\n",
       "10   5.0   5.68   5.500545  0.179455"
      ],
      "text/html": [
       "<div>\n",
       "<style scoped>\n",
       "    .dataframe tbody tr th:only-of-type {\n",
       "        vertical-align: middle;\n",
       "    }\n",
       "\n",
       "    .dataframe tbody tr th {\n",
       "        vertical-align: top;\n",
       "    }\n",
       "\n",
       "    .dataframe thead th {\n",
       "        text-align: right;\n",
       "    }\n",
       "</style>\n",
       "<table border=\"1\" class=\"dataframe\">\n",
       "  <thead>\n",
       "    <tr style=\"text-align: right;\">\n",
       "      <th></th>\n",
       "      <th>x</th>\n",
       "      <th>y</th>\n",
       "      <th>fitted</th>\n",
       "      <th>resid</th>\n",
       "    </tr>\n",
       "  </thead>\n",
       "  <tbody>\n",
       "    <tr>\n",
       "      <th>0</th>\n",
       "      <td>10.0</td>\n",
       "      <td>8.04</td>\n",
       "      <td>8.001000</td>\n",
       "      <td>0.039000</td>\n",
       "    </tr>\n",
       "    <tr>\n",
       "      <th>1</th>\n",
       "      <td>8.0</td>\n",
       "      <td>6.95</td>\n",
       "      <td>7.000818</td>\n",
       "      <td>-0.050818</td>\n",
       "    </tr>\n",
       "    <tr>\n",
       "      <th>2</th>\n",
       "      <td>13.0</td>\n",
       "      <td>7.58</td>\n",
       "      <td>9.501273</td>\n",
       "      <td>-1.921273</td>\n",
       "    </tr>\n",
       "    <tr>\n",
       "      <th>3</th>\n",
       "      <td>9.0</td>\n",
       "      <td>8.81</td>\n",
       "      <td>7.500909</td>\n",
       "      <td>1.309091</td>\n",
       "    </tr>\n",
       "    <tr>\n",
       "      <th>4</th>\n",
       "      <td>11.0</td>\n",
       "      <td>8.33</td>\n",
       "      <td>8.501091</td>\n",
       "      <td>-0.171091</td>\n",
       "    </tr>\n",
       "    <tr>\n",
       "      <th>5</th>\n",
       "      <td>14.0</td>\n",
       "      <td>9.96</td>\n",
       "      <td>10.001364</td>\n",
       "      <td>-0.041364</td>\n",
       "    </tr>\n",
       "    <tr>\n",
       "      <th>6</th>\n",
       "      <td>6.0</td>\n",
       "      <td>7.24</td>\n",
       "      <td>6.000636</td>\n",
       "      <td>1.239364</td>\n",
       "    </tr>\n",
       "    <tr>\n",
       "      <th>7</th>\n",
       "      <td>4.0</td>\n",
       "      <td>4.26</td>\n",
       "      <td>5.000455</td>\n",
       "      <td>-0.740455</td>\n",
       "    </tr>\n",
       "    <tr>\n",
       "      <th>8</th>\n",
       "      <td>12.0</td>\n",
       "      <td>10.84</td>\n",
       "      <td>9.001182</td>\n",
       "      <td>1.838818</td>\n",
       "    </tr>\n",
       "    <tr>\n",
       "      <th>9</th>\n",
       "      <td>7.0</td>\n",
       "      <td>4.82</td>\n",
       "      <td>6.500727</td>\n",
       "      <td>-1.680727</td>\n",
       "    </tr>\n",
       "    <tr>\n",
       "      <th>10</th>\n",
       "      <td>5.0</td>\n",
       "      <td>5.68</td>\n",
       "      <td>5.500545</td>\n",
       "      <td>0.179455</td>\n",
       "    </tr>\n",
       "  </tbody>\n",
       "</table>\n",
       "</div>"
      ]
     },
     "execution_count": 13,
     "metadata": {},
     "output_type": "execute_result"
    }
   ],
   "execution_count": 13
  },
  {
   "metadata": {},
   "cell_type": "markdown",
   "source": "Bam! Congrats on your first Python exercise! You just cleared your first hurdle to getting into the world of Python!",
   "id": "27ada994322ccb3"
  }
 ],
 "metadata": {
  "kernelspec": {
   "display_name": "Python 3",
   "language": "python",
   "name": "python3"
  },
  "language_info": {
   "name": "python",
   "version": "3.x"
  }
 },
 "nbformat": 4,
 "nbformat_minor": 5
}
