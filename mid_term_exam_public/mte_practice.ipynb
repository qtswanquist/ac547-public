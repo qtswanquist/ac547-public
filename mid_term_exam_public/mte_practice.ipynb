{
 "cells": [
  {
   "cell_type": "markdown",
   "id": "4eeb0f65-5c9e-4ae1-8c4f-8f12ed1e36f9",
   "metadata": {},
   "source": [
    "# Mid-Term Exam - Fall 2025 Programming Section\n",
    "\n",
    "## Instructions... **Please read carefully**\n",
    "Save your notebook (**this file**) as follows: mte_first_last.ipynb, where first_last is your first and last name. For example, my script would be saved as mte_quinn_swanquist.ipynb.\n",
    "\n",
    "Once completed, your notebook should be submitted in Blackboard under Exams > Mid-Term Exam > Mid Term Exam: Part II - Programming Submission.\n",
    "\n",
    "Give yourself 1 hour and 15 minutes to complete the exam. It must be submitted by the end of class otherwise it is marked as late. Late submissions will not be counted unless otherwise permitted by the instructor.\n",
    "\n",
    "If you get stuck or cannot get your code to run, **don't panic!** Add a note explaining your strategy for solving the problem (partial credit for good answers!). Pace yourself to complete the entire exam.\n",
    "\n",
    "Please do not alter existing code or markdown cells in your exam. All code should be completed in the provided cells.\n",
    "\n",
    "Good luck!\n",
    "\n",
    "## Importing libraries\n",
    "\n",
    "Load libraries (you may add libraries, however, the exam can be completed with just these). These should already be installed on your machine from earlier exercises and examples."
   ]
  },
  {
   "cell_type": "code",
   "id": "7ae4cf15-d7c2-4c2a-835e-0cfa6b43e7d1",
   "metadata": {
    "ExecuteTime": {
     "end_time": "2025-10-06T00:18:21.117230Z",
     "start_time": "2025-10-06T00:18:21.115067Z"
    }
   },
   "source": [
    "import pandas as pd\n",
    "import numpy as np\n",
    "import matplotlib.pyplot as plt\n",
    "import seaborn as sns\n",
    "import matplotlib.ticker as mtick"
   ],
   "outputs": [],
   "execution_count": 1
  },
  {
   "metadata": {},
   "cell_type": "markdown",
   "source": [
    "## Importing data\n",
    "\n",
    "Import the datasets and store as `open_ar`, `remit_advices`, and `payment_detail`. Hint, these can all be imported using `pd.read_csv()`. Check carefully for the correct separator! (2 points)."
   ],
   "id": "4c95fae5-cc5d-4f16-978f-61e2efb82e9b"
  },
  {
   "metadata": {
    "ExecuteTime": {
     "end_time": "2025-10-06T00:18:22.929334Z",
     "start_time": "2025-10-06T00:18:22.918055Z"
    }
   },
   "cell_type": "code",
   "source": [
    "open_ar =\n",
    "remit_advices =\n",
    "payment_detail ="
   ],
   "id": "7bf5711f60497e69",
   "outputs": [],
   "execution_count": 2
  },
  {
   "metadata": {},
   "cell_type": "markdown",
   "source": "Below start practicing!",
   "id": "758f1be977c5939c"
  },
  {
   "metadata": {},
   "cell_type": "code",
   "outputs": [],
   "execution_count": null,
   "source": "",
   "id": "5436162a43ec342"
  }
 ],
 "metadata": {
  "kernelspec": {
   "display_name": "Python 3",
   "language": "python",
   "name": "python3"
  },
  "language_info": {
   "name": "python",
   "version": "3.x"
  }
 },
 "nbformat": 4,
 "nbformat_minor": 5
}
